{
 "cells": [
  {
   "cell_type": "markdown",
   "id": "44519230-201f-4cc2-8f00-f481b4aa54f3",
   "metadata": {},
   "source": [
    "## CIFAR-10 이미지 추출\n",
    "### 클라이언트별 IID"
   ]
  },
  {
   "cell_type": "code",
   "execution_count": null,
   "id": "05fce74f-61ce-45bb-8012-2151d952544b",
   "metadata": {},
   "outputs": [],
   "source": [
    "import os\n",
    "\n",
    "import tensorflow as tf\n",
    "import numpy as np\n",
    "import pandas as pd\n",
    "import PIL.Image as Image"
   ]
  },
  {
   "cell_type": "code",
   "execution_count": null,
   "id": "d0fe3e6a-4602-441f-b220-5cd2fff5b799",
   "metadata": {},
   "outputs": [],
   "source": [
    "(train_images, train_labels), (test_images, test_labels) = tf.keras.datasets.cifar10.load_data()\n",
    "images = np.concatenate((train_images, test_images))\n",
    "labels = np.concatenate((train_labels, test_labels))"
   ]
  },
  {
   "cell_type": "code",
   "execution_count": null,
   "id": "a97992d1-8d49-4b3f-a9cc-aaaa39a43ea2",
   "metadata": {},
   "outputs": [],
   "source": [
    "# https://www.tensorflow.org/api_docs/python/tf/keras/datasets/cifar10/load_data\n",
    "labelnames = ['Airplane', 'Automobile', 'Bird', 'Cat', 'Deer', 'Dog', 'Frog', 'Horse', 'Ship', 'Truck']\n",
    "labelnames"
   ]
  },
  {
   "cell_type": "code",
   "execution_count": null,
   "id": "71a2f11f-8f56-474c-8916-aae624c10d19",
   "metadata": {},
   "outputs": [],
   "source": [
    "clients = 10\n",
    "div = clients + 1"
   ]
  },
  {
   "cell_type": "code",
   "execution_count": null,
   "id": "2a1b0b88-9a64-42b5-89b0-e0c6034a334e",
   "metadata": {},
   "outputs": [],
   "source": [
    "counter = {}\n",
    "output = os.path.abspath(os.path.expanduser('dataset'))\n",
    "for idx, data in enumerate(zip(images, labels), start=0):\n",
    "    image = Image.fromarray(data[0])\n",
    "    label = labelnames[data[1][0]]\n",
    "    num = counter.get(label, 0)\n",
    "    odir = os.path.join(output, f'{num%div}', label)\n",
    "    os.makedirs(odir, exist_ok=True)\n",
    "    opath = os.path.join(odir, f'{num:04d}.jpg')\n",
    "    image.save(opath)\n",
    "    counter[label] = num + 1"
   ]
  },
  {
   "cell_type": "markdown",
   "id": "f11f07b7-09e6-4fb3-819a-d48ea9be8146",
   "metadata": {},
   "source": [
    "## 클라이언트별 학습"
   ]
  },
  {
   "cell_type": "code",
   "execution_count": null,
   "id": "4b58c8cf-b3e8-4b88-beff-f64624e877b0",
   "metadata": {},
   "outputs": [],
   "source": [
    "dataset_root = os.path.abspath(os.path.expanduser('dataset'))\n",
    "with os.scandir(dataset_root) as it:\n",
    "    for entry in it:\n",
    "        if not entry.name.startswith('.') and entry.is_dir():\n",
    "            print(entry, entry.path, entry.name)"
   ]
  },
  {
   "cell_type": "code",
   "execution_count": null,
   "id": "9ed42883-7047-497b-8fd4-5593496a82ea",
   "metadata": {},
   "outputs": [],
   "source": [
    "# Datasets\n",
    "datasets = {}\n",
    "dataset_root = os.path.abspath(os.path.expanduser('dataset'))\n",
    "image_generator = tf.keras.preprocessing.image.ImageDataGenerator(rescale=1/255)\n",
    "with os.scandir(dataset_root) as it:\n",
    "    for entry in it:\n",
    "        if not entry.name.startswith('.') and entry.is_dir():\n",
    "            dataset = image_generator.flow_from_directory(entry.path,\n",
    "                                                          classes=labelnames, \n",
    "                                                          target_size=(32, 32), \n",
    "                                                          shuffle=True)\n",
    "            datasets[entry.name] = dataset\n",
    "datasets.keys()"
   ]
  },
  {
   "cell_type": "code",
   "execution_count": null,
   "id": "f9947c7f-0f52-44ae-9472-0443ec581b98",
   "metadata": {},
   "outputs": [],
   "source": [
    "model = tf.keras.models.Sequential([\n",
    "                       tf.keras.layers.Conv2D(32, (3, 3), activation='relu', input_shape=(32, 32, 3)),\n",
    "                       tf.keras.layers.MaxPooling2D((2, 2)),\n",
    "                       tf.keras.layers.Conv2D(64, (3, 3), activation='relu'),\n",
    "                       tf.keras.layers.MaxPooling2D((2, 2)),\n",
    "                       tf.keras.layers.Conv2D(64, (3, 3), activation='relu'),\n",
    "                       tf.keras.layers.Flatten(),\n",
    "                       tf.keras.layers.Dense(64, activation='relu'),\n",
    "                       tf.keras.layers.Dense(len(labelnames))])\n",
    "model.compile(optimizer=tf.keras.optimizers.Adam(),\n",
    "              loss=tf.keras.losses.CategoricalCrossentropy(from_logits=True),\n",
    "              metrics=['accuracy'])\n",
    "model.summary()"
   ]
  },
  {
   "cell_type": "code",
   "execution_count": null,
   "id": "d137ae8d-6b3a-4b01-8715-8851f2365846",
   "metadata": {},
   "outputs": [],
   "source": [
    "# Base model\n",
    "odir = os.path.join('models', '0', '0')\n",
    "model.save(odir)"
   ]
  },
  {
   "cell_type": "code",
   "execution_count": null,
   "id": "a478573d-15a5-4082-bdd8-8131fa18b32d",
   "metadata": {},
   "outputs": [],
   "source": [
    "rounds = 10\n",
    "epochs = 10"
   ]
  },
  {
   "cell_type": "code",
   "execution_count": null,
   "id": "db9a6d9c-309b-439c-946a-2323032931d4",
   "metadata": {},
   "outputs": [],
   "source": [
    "for r in range(rounds):\n",
    "    weights = []\n",
    "    rpath = os.path.join('models', f'{r}')\n",
    "    for c in range(1, clients+1):\n",
    "        mpath = os.path.join(rpath, '0')\n",
    "        model = tf.keras.models.load_model(mpath)\n",
    "        history = model.fit(datasets[f'{c}'], epochs=epochs, verbose=0)\n",
    "        opath = os.path.join(rpath, f'{c}')\n",
    "        model.save(opath)\n",
    "        if c == 1:\n",
    "            weights = model.get_weights()\n",
    "        else:\n",
    "            for idx, weight in enumerate(model.get_weights()):\n",
    "                weights[idx] = weights[idx] + weight\n",
    "        print(f'Local train: round #{r} with clinent #{c}')\n",
    "    for idx, weight in enumerate(weights):\n",
    "        weights[idx] = weights[idx] / clients\n",
    "    mpath = os.path.join(rpath, '0')\n",
    "    model = tf.keras.models.load_model(mpath)\n",
    "    model.set_weights(weights)\n",
    "    ndir = os.path.join('models', f'{r+1}')\n",
    "    npath = os.path.join(ndir, '0')\n",
    "    model.save(npath)\n",
    "    metric = model.evaluate(datasets['0'], verbose=0)\n",
    "    print(f'Global aggregation: round #{r+1} for {metric}')"
   ]
  },
  {
   "cell_type": "code",
   "execution_count": null,
   "id": "271d898c-5550-469c-8ee2-9c0fa48cc2f7",
   "metadata": {},
   "outputs": [],
   "source": []
  }
 ],
 "metadata": {
  "kernelspec": {
   "display_name": "FLHub",
   "language": "python",
   "name": "flhub"
  },
  "language_info": {
   "codemirror_mode": {
    "name": "ipython",
    "version": 3
   },
   "file_extension": ".py",
   "mimetype": "text/x-python",
   "name": "python",
   "nbconvert_exporter": "python",
   "pygments_lexer": "ipython3",
   "version": "3.10.5"
  }
 },
 "nbformat": 4,
 "nbformat_minor": 5
}
