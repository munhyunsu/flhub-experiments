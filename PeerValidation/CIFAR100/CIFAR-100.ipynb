{
 "cells": [
  {
   "cell_type": "markdown",
   "id": "44519230-201f-4cc2-8f00-f481b4aa54f3",
   "metadata": {},
   "source": [
    "## CIFAR-100 이미지 추출\n",
    "### 클라이언트별 IID"
   ]
  },
  {
   "cell_type": "code",
   "execution_count": null,
   "id": "be6d1ed6-1389-4941-a86f-d016355a5100",
   "metadata": {},
   "outputs": [],
   "source": [
    "import matplotlib.font_manager\n",
    "system_fonts = matplotlib.font_manager.findSystemFonts(fontpaths=None, fontext='ttf')\n",
    "system_fonts"
   ]
  },
  {
   "cell_type": "code",
   "execution_count": null,
   "id": "05fce74f-61ce-45bb-8012-2151d952544b",
   "metadata": {},
   "outputs": [],
   "source": [
    "import os\n",
    "\n",
    "import tensorflow as tf\n",
    "import numpy as np\n",
    "import pandas as pd\n",
    "import PIL.Image as Image"
   ]
  },
  {
   "cell_type": "code",
   "execution_count": null,
   "id": "d0fe3e6a-4602-441f-b220-5cd2fff5b799",
   "metadata": {},
   "outputs": [],
   "source": [
    "(train_images, train_labels), (test_images, test_labels) = tf.keras.datasets.cifar100.load_data()\n",
    "images = np.concatenate((train_images, test_images))\n",
    "labels = np.concatenate((train_labels, test_labels))"
   ]
  },
  {
   "cell_type": "code",
   "execution_count": null,
   "id": "3d1f595b-b07f-4b7a-9275-0d5b8f7be3dc",
   "metadata": {},
   "outputs": [],
   "source": [
    "labels[:10]"
   ]
  },
  {
   "cell_type": "code",
   "execution_count": null,
   "id": "a97992d1-8d49-4b3f-a9cc-aaaa39a43ea2",
   "metadata": {},
   "outputs": [],
   "source": [
    "# https://www.tensorflow.org/api_docs/python/tf/keras/datasets/cifar100/load_data\n",
    "# https://www.cs.toronto.edu/~kriz/cifar.html\n",
    "# https://github.com/keras-team/keras/issues/2653\n",
    "labelnames_fine = ['apple', 'aquarium_fish', 'baby', 'bear', 'beaver', \n",
    "                   'bed', 'bee', 'beetle', 'bicycle', 'bottle', \n",
    "                   'bowl', 'boy', 'bridge', 'bus', 'butterfly', \n",
    "                   'camel', 'can', 'castle', 'caterpillar', 'cattle', \n",
    "                   'chair', 'chimpanzee', 'clock', 'cloud', 'cockroach', \n",
    "                   'couch', 'crab', 'crocodile', 'cup', 'dinosaur', \n",
    "                   'dolphin', 'elephant', 'flatfish', 'forest', 'fox', \n",
    "                   'girl', 'hamster', 'house', 'kangaroo', 'keyboard', \n",
    "                   'lamp', 'lawn_mower', 'leopard', 'lion', 'lizard', \n",
    "                   'lobster', 'man', 'maple_tree', 'motorcycle', 'mountain', \n",
    "                   'mouse', 'mushroom', 'oak_tree', 'orange', 'orchid', \n",
    "                   'otter', 'palm_tree', 'pear', 'pickup_truck', 'pine_tree', \n",
    "                   'plain', 'plate', 'poppy', 'porcupine', 'possum', \n",
    "                   'rabbit', 'raccoon', 'ray', 'road', 'rocket', \n",
    "                   'rose', 'sea', 'seal', 'shark', 'shrew', \n",
    "                   'skunk', 'skyscraper', 'snail', 'snake', 'spider', \n",
    "                   'squirrel', 'streetcar', 'sunflower', 'sweet_pepper', 'table', \n",
    "                   'tank', 'telephone', 'television', 'tiger', 'tractor', \n",
    "                   'train', 'trout', 'tulip', 'turtle', 'wardrobe', \n",
    "                   'whale', 'willow_tree', 'wolf', 'woman', 'worm']\n",
    "labelnames_coarse = ['aquatic_mammals', 'fish', 'flowers', 'food_containers', \n",
    "                     'fruit_and_vegetables', 'household_electrical_devices', \n",
    "                     'household_furniture', 'insects', 'large_carnivores', \n",
    "                     'large_man-made_outdoor_things', 'large_natural_outdoor_scenes', \n",
    "                     'large_omnivores_and_herbivores', 'medium_mammals', 'non-insect_invertebrates', \n",
    "                     'people', 'reptiles', 'small_mammals', 'trees', 'vehicles_1', 'vehicles_2']\n",
    "labelnames_map = {'aquatic_mammals': ['beaver', 'dolphin', 'otter', 'seal', 'whale'],\n",
    "                  'fish': ['aquarium_fish', 'flatfish', 'ray', 'shark', 'trout'],\n",
    "                  'flowers': ['orchid', 'poppy', 'rose', 'sunflower', 'tulip'],\n",
    "                  'food_containers': ['bottle', 'bowl', 'can', 'cup', 'plate'],\n",
    "                  'fruit_and_vegetables': ['apple', 'mushroom', 'orange', 'pear', 'sweet_pepper'],\n",
    "                  'household_electrical_devices': ['clock', 'computer_keyboard', 'lamp', 'telephone', 'television'],\n",
    "                  'household_furniture': ['bed', 'chair', 'couch', 'table', 'wardrobe'],\n",
    "                  'insects': ['bee', 'beetle', 'butterfly', 'caterpillar', 'cockroach'],\n",
    "                  'large_carnivores': ['bear', 'leopard', 'lion', 'tiger', 'wolf'],\n",
    "                  'large_man-made_outdoor_things': ['bridge', 'castle', 'house', 'road', 'skyscraper'],\n",
    "                  'large_natural_outdoor_scenes': ['cloud', 'forest', 'mountain', 'plain', 'sea'],\n",
    "                  'large_omnivores_and_herbivores': ['camel', 'cattle', 'chimpanzee', 'elephant', 'kangaroo'],\n",
    "                  'medium_mammals': ['fox', 'porcupine', 'possum', 'raccoon', 'skunk'],\n",
    "                  'non-insect_invertebrates': ['crab', 'lobster', 'snail', 'spider', 'worm'],\n",
    "                  'people': ['baby', 'boy', 'girl', 'man', 'woman'],\n",
    "                  'reptiles': ['crocodile', 'dinosaur', 'lizard', 'snake', 'turtle'],\n",
    "                  'small_mammals': ['hamster', 'mouse', 'rabbit', 'shrew', 'squirrel'],\n",
    "                  'trees': ['maple_tree', 'oak_tree', 'palm_tree', 'pine_tree', 'willow_tree'],\n",
    "                  'vehicles_1': ['bicycle', 'bus', 'motorcycle', 'pickup_truck', 'train'],\n",
    "                  'vehicles_2': ['lawn_mower', 'rocket', 'streetcar', 'tank', 'tractor'],\n",
    "                 }\n",
    "fine2coarse = { 0:  4,  1:  1,  2: 14,  3:  8,  4:  0,\n",
    "                5:  6,  6:  7,  7:  7,  8: 18,  9:  3,\n",
    "               10:  3, 11: 14, 12:  9, 13: 18, 14:  7,\n",
    "               15: 11, 16:  3, 17:  9, 18:  7, 19: 11,\n",
    "               20:  6, 21: 11, 22:  5, 23: 10, 24:  7,\n",
    "               25:  6, 26: 13, 27: 15, 28:  3, 29: 15,\n",
    "               30:  0, 31: 11, 32:  1, 33: 10, 34: 12,\n",
    "               35: 14, 36: 16, 37:  9, 38: 11, 39:  5,\n",
    "               40:  5, 41: 19, 42:  8, 43:  8, 44: 15,\n",
    "               45: 13, 46: 14, 47: 17, 48: 18, 49: 10,\n",
    "               50: 16, 51:  4, 52: 17, 53:  4, 54:  2,\n",
    "               55:  0, 56: 17, 57:  4, 58: 18, 59: 17,\n",
    "               60: 10, 61:  3, 62:  2, 63: 12, 64: 12,\n",
    "               65: 16, 66: 12, 67:  1, 68:  9, 69: 19,\n",
    "               70:  2, 71: 10, 72:  0, 73:  1, 74: 16,\n",
    "               75: 12, 76:  9, 77: 13, 78: 15, 79: 13,\n",
    "               80: 16, 81: 19, 82:  2, 83:  4, 84:  6,\n",
    "               85: 19, 86:  5, 87:  5, 88:  8, 89: 19,\n",
    "               90: 18, 91:  1, 92:  2, 93: 15, 94:  6,\n",
    "               95:  0, 96: 17, 97:  8, 98: 14, 99: 13}\n",
    "print(f'Fine labels: {len(labelnames_fine)}, Coarse labels: {len(labelnames_coarse)}')"
   ]
  },
  {
   "cell_type": "code",
   "execution_count": null,
   "id": "71a2f11f-8f56-474c-8916-aae624c10d19",
   "metadata": {},
   "outputs": [],
   "source": [
    "clients = 5\n",
    "div = clients + 1"
   ]
  },
  {
   "cell_type": "code",
   "execution_count": null,
   "id": "fca8bdcb-a5c1-4e00-9099-468ed983b790",
   "metadata": {},
   "outputs": [],
   "source": [
    "noniid = []\n",
    "for key, value in labelnames_map.items():\n",
    "    noniid.append(value[0])\n",
    "print(f'Test dataset has only: {noniid}')"
   ]
  },
  {
   "cell_type": "code",
   "execution_count": null,
   "id": "2a1b0b88-9a64-42b5-89b0-e0c6034a334e",
   "metadata": {},
   "outputs": [],
   "source": [
    "counter_fine = {}\n",
    "counter_coarse = {}\n",
    "output = os.path.abspath(os.path.expanduser('dataset'))\n",
    "for idx, data in enumerate(zip(images, labels), start=0):\n",
    "    image = Image.fromarray(data[0])\n",
    "    fine = labelnames_fine[data[1][0]]\n",
    "    coarse = labelnames_coarse[fine2coarse[data[1][0]]]\n",
    "    num_fine = counter_fine.get(fine, 0)\n",
    "    num_coarse = counter_coarse.get(coarse, 0)\n",
    "    if fine in noniid and num_fine%2 == 0:\n",
    "        party = 0\n",
    "    else:\n",
    "        party = (num_coarse%clients) + 1\n",
    "    odir = os.path.join(output, f'{party}', coarse)\n",
    "    os.makedirs(odir, exist_ok=True)\n",
    "    opath = os.path.join(odir, f'{num_coarse:04d}.jpg')\n",
    "    image.save(opath)\n",
    "    counter_fine[fine] = num_fine + 1\n",
    "    counter_coarse[coarse] = num_coarse + 1"
   ]
  },
  {
   "cell_type": "markdown",
   "id": "f11f07b7-09e6-4fb3-819a-d48ea9be8146",
   "metadata": {},
   "source": [
    "## 클라이언트별 학습"
   ]
  },
  {
   "cell_type": "code",
   "execution_count": null,
   "id": "4b58c8cf-b3e8-4b88-beff-f64624e877b0",
   "metadata": {},
   "outputs": [],
   "source": [
    "dataset_root = os.path.abspath(os.path.expanduser('dataset'))\n",
    "with os.scandir(dataset_root) as it:\n",
    "    for entry in it:\n",
    "        if not entry.name.startswith('.') and entry.is_dir():\n",
    "            print(entry, entry.path, entry.name)"
   ]
  },
  {
   "cell_type": "code",
   "execution_count": null,
   "id": "9ed42883-7047-497b-8fd4-5593496a82ea",
   "metadata": {},
   "outputs": [],
   "source": [
    "# Datasets\n",
    "datasets = {}\n",
    "dataset_root = os.path.abspath(os.path.expanduser('dataset'))\n",
    "image_generator = tf.keras.preprocessing.image.ImageDataGenerator(rescale=1/255)\n",
    "with os.scandir(dataset_root) as it:\n",
    "    for entry in it:\n",
    "        if not entry.name.startswith('.') and entry.is_dir():\n",
    "            dataset = image_generator.flow_from_directory(entry.path,\n",
    "                                                          classes=labelnames_coarse, \n",
    "                                                          target_size=(32, 32), \n",
    "                                                          shuffle=True)\n",
    "            datasets[entry.name] = dataset\n",
    "datasets.keys()"
   ]
  },
  {
   "cell_type": "code",
   "execution_count": null,
   "id": "f9947c7f-0f52-44ae-9472-0443ec581b98",
   "metadata": {},
   "outputs": [],
   "source": [
    "model = tf.keras.models.Sequential([\n",
    "                       tf.keras.layers.Conv2D(32, (3, 3), activation='relu', input_shape=(32, 32, 3)),\n",
    "                       tf.keras.layers.MaxPooling2D((2, 2)),\n",
    "                       tf.keras.layers.Conv2D(64, (3, 3), activation='relu'),\n",
    "                       tf.keras.layers.MaxPooling2D((2, 2)),\n",
    "                       tf.keras.layers.Conv2D(64, (3, 3), activation='relu'),\n",
    "                       tf.keras.layers.Flatten(),\n",
    "                       tf.keras.layers.Dense(64, activation='relu'),\n",
    "                       tf.keras.layers.Dense(len(labelnames_coarse))])\n",
    "model.compile(optimizer=tf.keras.optimizers.Adam(),\n",
    "              loss=tf.keras.losses.CategoricalCrossentropy(from_logits=True),\n",
    "              metrics=['accuracy'])\n",
    "model.summary()"
   ]
  },
  {
   "cell_type": "code",
   "execution_count": null,
   "id": "d137ae8d-6b3a-4b01-8715-8851f2365846",
   "metadata": {},
   "outputs": [],
   "source": [
    "# Base model\n",
    "odir = os.path.join('models', '0', '0')\n",
    "model.save(odir)"
   ]
  },
  {
   "cell_type": "code",
   "execution_count": null,
   "id": "a478573d-15a5-4082-bdd8-8131fa18b32d",
   "metadata": {},
   "outputs": [],
   "source": [
    "rounds = 10\n",
    "epochs = 10"
   ]
  },
  {
   "cell_type": "code",
   "execution_count": null,
   "id": "db9a6d9c-309b-439c-946a-2323032931d4",
   "metadata": {},
   "outputs": [],
   "source": [
    "for r in range(rounds+1):\n",
    "    weights = []\n",
    "    rpath = os.path.join('models', f'{r}')\n",
    "    for c in range(1, clients+1):\n",
    "        mpath = os.path.join(rpath, '0')\n",
    "        model = tf.keras.models.load_model(mpath)\n",
    "        history = model.fit(datasets[f'{c}'], epochs=epochs, verbose=0)\n",
    "        opath = os.path.join(rpath, f'{c}')\n",
    "        model.save(opath)\n",
    "        if c == 1:\n",
    "            weights = model.get_weights()\n",
    "        else:\n",
    "            for idx, weight in enumerate(model.get_weights()):\n",
    "                weights[idx] = weights[idx] + weight\n",
    "        print(f'Local train: round #{r} with clinent #{c}')\n",
    "    for idx, weight in enumerate(weights):\n",
    "        weights[idx] = weights[idx] / clients\n",
    "    mpath = os.path.join(rpath, '0')\n",
    "    model = tf.keras.models.load_model(mpath)\n",
    "    model.set_weights(weights)\n",
    "    ndir = os.path.join('models', f'{r+1}')\n",
    "    npath = os.path.join(ndir, '0')\n",
    "    model.save(npath)\n",
    "    metric = model.evaluate(datasets['0'], verbose=0)\n",
    "    print(f'Global aggregation: round #{r+1} for {metric}')"
   ]
  },
  {
   "cell_type": "code",
   "execution_count": null,
   "id": "271d898c-5550-469c-8ee2-9c0fa48cc2f7",
   "metadata": {},
   "outputs": [],
   "source": []
  }
 ],
 "metadata": {
  "kernelspec": {
   "display_name": "FLHub",
   "language": "python",
   "name": "flhub"
  },
  "language_info": {
   "codemirror_mode": {
    "name": "ipython",
    "version": 3
   },
   "file_extension": ".py",
   "mimetype": "text/x-python",
   "name": "python",
   "nbconvert_exporter": "python",
   "pygments_lexer": "ipython3",
   "version": "3.10.8"
  }
 },
 "nbformat": 4,
 "nbformat_minor": 5
}
