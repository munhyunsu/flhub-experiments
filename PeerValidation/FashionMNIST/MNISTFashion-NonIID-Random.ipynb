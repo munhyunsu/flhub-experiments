{
 "cells": [
  {
   "cell_type": "markdown",
   "id": "f2386b23",
   "metadata": {},
   "source": [
    "## Fashion MNIST 이미지 추출\n",
    "### 클라이언트별 IID"
   ]
  },
  {
   "cell_type": "code",
   "execution_count": null,
   "id": "7be5487a",
   "metadata": {},
   "outputs": [],
   "source": [
    "import os\n",
    "import random\n",
    "\n",
    "import tensorflow as tf\n",
    "import numpy as np\n",
    "import pandas as pd\n",
    "import PIL.Image as Image"
   ]
  },
  {
   "cell_type": "code",
   "execution_count": null,
   "id": "12e6e65d",
   "metadata": {},
   "outputs": [],
   "source": [
    "(train_images, train_labels), (test_images, test_labels) = tf.keras.datasets.fashion_mnist.load_data()\n",
    "images = np.concatenate((train_images, test_images))\n",
    "labels = np.concatenate((train_labels, test_labels))"
   ]
  },
  {
   "cell_type": "code",
   "execution_count": null,
   "id": "1c851454",
   "metadata": {},
   "outputs": [],
   "source": [
    "# https://www.tensorflow.org/api_docs/python/tf/keras/datasets/fashion_mnist/load_data\n",
    "labelnames = ['T-shirt', 'Trouser', 'Pullover', 'Dress', 'Coat', 'Sandal', 'Shirt', 'Sneaker', 'Bag', 'Ankle boot']\n",
    "labelnames"
   ]
  },
  {
   "cell_type": "code",
   "execution_count": null,
   "id": "f00b6e39",
   "metadata": {},
   "outputs": [],
   "source": [
    "clients = 10\n",
    "div = clients + 1"
   ]
  },
  {
   "cell_type": "code",
   "execution_count": null,
   "id": "479a411b",
   "metadata": {},
   "outputs": [],
   "source": [
    "counter = {}\n",
    "output = os.path.abspath(os.path.expanduser('dataset'))\n",
    "for idx, data in enumerate(zip(images, labels), start=0):\n",
    "    image = Image.fromarray(data[0])\n",
    "    label = labelnames[data[1]]\n",
    "    num = counter.get(label, 0)\n",
    "    party = num%div\n",
    "    if party != 0:\n",
    "        party = random.randint(1, clients)\n",
    "    odir = os.path.join(output, f'{party}', label)\n",
    "    os.makedirs(odir, exist_ok=True)\n",
    "    opath = os.path.join(odir, f'{num:04d}.jpg')\n",
    "    image.save(opath)\n",
    "    counter[label] = num + 1"
   ]
  },
  {
   "cell_type": "markdown",
   "id": "a48f15db",
   "metadata": {},
   "source": [
    "## 클라이언트별 학습"
   ]
  },
  {
   "cell_type": "code",
   "execution_count": null,
   "id": "083cc00c",
   "metadata": {},
   "outputs": [],
   "source": [
    "dataset_root = os.path.abspath(os.path.expanduser('dataset'))\n",
    "with os.scandir(dataset_root) as it:\n",
    "    for entry in it:\n",
    "        if not entry.name.startswith('.') and entry.is_dir():\n",
    "            print(entry, entry.path, entry.name)"
   ]
  },
  {
   "cell_type": "code",
   "execution_count": null,
   "id": "63bf6426",
   "metadata": {},
   "outputs": [],
   "source": [
    "# Datasets\n",
    "datasets = {}\n",
    "dataset_root = os.path.abspath(os.path.expanduser('dataset'))\n",
    "with os.scandir(dataset_root) as it:\n",
    "    for entry in it:\n",
    "        if not entry.name.startswith('.') and entry.is_dir():\n",
    "            if entry.name == '0':\n",
    "                continue\n",
    "            image_generator = tf.keras.preprocessing.image.ImageDataGenerator(rescale=1/255, validation_split=0.2)\n",
    "            train = image_generator.flow_from_directory(entry.path,\n",
    "                                                        classes=labelnames,\n",
    "                                                        target_size=(32, 32),\n",
    "                                                        subset='training',\n",
    "                                                        shuffle=True)\n",
    "            test = image_generator.flow_from_directory(entry.path,\n",
    "                                                       classes=labelnames,\n",
    "                                                       target_size=(32, 32),\n",
    "                                                       subset='validation',\n",
    "                                                       shuffle=True)\n",
    "            datasets[entry.name] = (train, test)\n",
    "datasets.keys()"
   ]
  },
  {
   "cell_type": "code",
   "execution_count": null,
   "id": "7d74bc5d-4647-44d6-9e07-0d02623c170f",
   "metadata": {},
   "outputs": [],
   "source": [
    "# Datasets\n",
    "image_generator = tf.keras.preprocessing.image.ImageDataGenerator(rescale=1/255)\n",
    "datasets['0'] = image_generator.flow_from_directory(os.path.join(dataset_root, '0'),\n",
    "                                                    classes=labelnames, \n",
    "                                                    target_size=(32, 32), \n",
    "                                                    shuffle=True)\n",
    "datasets.keys()"
   ]
  },
  {
   "cell_type": "code",
   "execution_count": null,
   "id": "5c51529b",
   "metadata": {},
   "outputs": [],
   "source": [
    "model = tf.keras.models.Sequential([\n",
    "                       tf.keras.layers.Conv2D(32, (3, 3), activation='relu', input_shape=(32, 32, 3)),\n",
    "                       tf.keras.layers.MaxPooling2D((2, 2)),\n",
    "                       tf.keras.layers.Conv2D(64, (3, 3), activation='relu'),\n",
    "                       tf.keras.layers.MaxPooling2D((2, 2)),\n",
    "                       tf.keras.layers.Conv2D(64, (3, 3), activation='relu'),\n",
    "                       tf.keras.layers.Flatten(),\n",
    "                       tf.keras.layers.Dense(64, activation='relu'),\n",
    "                       tf.keras.layers.Dense(len(labelnames))])\n",
    "model.compile(optimizer=tf.keras.optimizers.Adam(),\n",
    "              loss=tf.keras.losses.CategoricalCrossentropy(from_logits=True),\n",
    "              metrics=['accuracy'])\n",
    "model.summary()"
   ]
  },
  {
   "cell_type": "code",
   "execution_count": null,
   "id": "35367cbd",
   "metadata": {},
   "outputs": [],
   "source": [
    "# Base model\n",
    "odir = os.path.join('models', '0', '0')\n",
    "model.save(odir)"
   ]
  },
  {
   "cell_type": "code",
   "execution_count": null,
   "id": "44fe98f2",
   "metadata": {},
   "outputs": [],
   "source": [
    "rounds = 10\n",
    "epochs = 10"
   ]
  },
  {
   "cell_type": "code",
   "execution_count": null,
   "id": "02074a64",
   "metadata": {},
   "outputs": [],
   "source": [
    "for r in range(rounds):\n",
    "    weights = []\n",
    "    rpath = os.path.join('models', f'{r}')\n",
    "    for c in range(1, clients+1):\n",
    "        mpath = os.path.join(rpath, '0')\n",
    "        model = tf.keras.models.load_model(mpath)\n",
    "        history = model.fit(datasets[f'{c}'][0], epochs=epochs, verbose=0)\n",
    "        opath = os.path.join(rpath, f'{c}')\n",
    "        model.save(opath)\n",
    "        if c == 1:\n",
    "            weights = model.get_weights()\n",
    "        else:\n",
    "            for idx, weight in enumerate(model.get_weights()):\n",
    "                weights[idx] = weights[idx] + weight\n",
    "        print(f'Local train: round #{r} with clinent #{c}')\n",
    "    for idx, weight in enumerate(weights):\n",
    "        weights[idx] = weights[idx] / clients\n",
    "    mpath = os.path.join(rpath, '0')\n",
    "    model = tf.keras.models.load_model(mpath)\n",
    "    model.set_weights(weights)\n",
    "    ndir = os.path.join('models', f'{r+1}')\n",
    "    npath = os.path.join(ndir, '0')\n",
    "    model.save(npath)\n",
    "    metric = model.evaluate(datasets['0'], verbose=0)\n",
    "    print(f'Global aggregation: round #{r+1} for {metric}')"
   ]
  },
  {
   "cell_type": "code",
   "execution_count": null,
   "id": "c977bc53",
   "metadata": {},
   "outputs": [],
   "source": [
    "global_acc = []\n",
    "global_loss = []\n",
    "federated_acc = []\n",
    "federated_loss = []\n",
    "for r in range(1, rounds+1):\n",
    "    weights = []\n",
    "    mpath = os.path.join('models', f'{r}', '0')\n",
    "    model = tf.keras.models.load_model(mpath)\n",
    "    acc = []\n",
    "    loss = []\n",
    "    for c in range(0, clients+1):\n",
    "        if c == 0:\n",
    "            metric = model.evaluate(datasets[f'{c}'], verbose=0)\n",
    "            global_loss.append(metric[0])\n",
    "            global_acc.append(metric[1])\n",
    "            print(f'round #{r} - Global: {metric}')\n",
    "        else:\n",
    "            metric = model.evaluate(datasets[f'{c}'][1], verbose=0)\n",
    "            loss.append(metric[0])\n",
    "            acc.append(metric[1])\n",
    "    loss = sum(loss) / clients\n",
    "    acc = sum(acc) / clients\n",
    "    federated_loss.append(loss)\n",
    "    federated_acc.append(acc)\n",
    "    print(f'round #{r} - Federated: {(loss, acc)}')"
   ]
  },
  {
   "cell_type": "code",
   "execution_count": null,
   "id": "99c3825e-e960-48b9-aa80-017fabe867e6",
   "metadata": {},
   "outputs": [],
   "source": [
    "import matplotlib.pyplot as plt # 시각화 도구\n",
    "%matplotlib inline"
   ]
  },
  {
   "cell_type": "code",
   "execution_count": null,
   "id": "55245a1b-5d10-4a10-84d6-6e64790d8345",
   "metadata": {},
   "outputs": [],
   "source": [
    "X = range(1, rounds+1)\n",
    "Y1_loss = []\n",
    "Y1_acc = []\n",
    "Y2_loss = []\n",
    "Y2_acc = []\n",
    "for i in range(rounds):\n",
    "    Y1_loss.append(global_loss[i])\n",
    "    Y1_acc.append(global_acc[i])\n",
    "    Y2_loss.append(federated_loss[i])\n",
    "    Y2_acc.append(federated_acc[i])"
   ]
  },
  {
   "cell_type": "code",
   "execution_count": null,
   "id": "d81ded7b-d0ae-4953-93ec-79c5bba20b98",
   "metadata": {},
   "outputs": [],
   "source": [
    "fig = plt.figure(figsize=(8, 6))\n",
    "fig.set_facecolor('white')\n",
    "ax = fig.add_subplot()\n",
    "ax.plot(X, Y1_acc, label='Global')\n",
    "ax.plot(X, Y2_acc, label='Federated')\n",
    "ax.set_title('CIFAR-10', fontsize='x-large')\n",
    "ax.set_xlabel('Federated rounds', fontsize='x-large')\n",
    "ax.set_ylabel('Accuracy', fontsize='x-large')\n",
    "ax.set_ylim([0, 1])\n",
    "ax.legend()\n",
    "# fig.savefig('accuracy.png', bbox_inches='tight')"
   ]
  },
  {
   "cell_type": "code",
   "execution_count": null,
   "id": "9b5e0e0a",
   "metadata": {},
   "outputs": [],
   "source": []
  }
 ],
 "metadata": {
  "kernelspec": {
   "display_name": "FLHub",
   "language": "python",
   "name": "flhub"
  },
  "language_info": {
   "codemirror_mode": {
    "name": "ipython",
    "version": 3
   },
   "file_extension": ".py",
   "mimetype": "text/x-python",
   "name": "python",
   "nbconvert_exporter": "python",
   "pygments_lexer": "ipython3",
   "version": "3.10.8"
  }
 },
 "nbformat": 4,
 "nbformat_minor": 5
}
