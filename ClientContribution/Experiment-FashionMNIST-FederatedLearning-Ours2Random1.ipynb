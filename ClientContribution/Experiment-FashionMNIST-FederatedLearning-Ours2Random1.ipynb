{
 "cells": [
  {
   "cell_type": "markdown",
   "id": "bfdf45c9-6e30-4424-a049-35283907d84e",
   "metadata": {},
   "source": [
    "# Experiment with Fashion MNIST\n",
    "## Federated learning with ours 2 and random 1"
   ]
  },
  {
   "cell_type": "code",
   "execution_count": null,
   "id": "91542269-3c75-4437-9335-372b56b1f5b8",
   "metadata": {},
   "outputs": [],
   "source": []
  }
 ],
 "metadata": {
  "kernelspec": {
   "display_name": "FLHub",
   "language": "python",
   "name": "flhub"
  },
  "language_info": {
   "codemirror_mode": {
    "name": "ipython",
    "version": 3
   },
   "file_extension": ".py",
   "mimetype": "text/x-python",
   "name": "python",
   "nbconvert_exporter": "python",
   "pygments_lexer": "ipython3",
   "version": "3.10.8"
  }
 },
 "nbformat": 4,
 "nbformat_minor": 5
}
