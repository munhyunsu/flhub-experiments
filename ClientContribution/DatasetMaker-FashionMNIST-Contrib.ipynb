{
 "cells": [
  {
   "cell_type": "markdown",
   "id": "f2386b23",
   "metadata": {},
   "source": [
    "# Fashion MNIST Dataset Maker"
   ]
  },
  {
   "cell_type": "code",
   "execution_count": null,
   "id": "7be5487a",
   "metadata": {},
   "outputs": [],
   "source": [
    "import os\n",
    "os.environ['CUDA_VISIBLE_DEVICES'] = '-1'\n",
    "import random\n",
    "\n",
    "import tensorflow as tf\n",
    "import numpy as np\n",
    "import pandas as pd\n",
    "import PIL.Image as Image"
   ]
  },
  {
   "cell_type": "code",
   "execution_count": null,
   "id": "12e6e65d",
   "metadata": {},
   "outputs": [],
   "source": [
    "# https://www.tensorflow.org/api_docs/python/tf/keras/datasets/fashion_mnist\n",
    "(train_images, train_labels), (test_images, test_labels) = tf.keras.datasets.fashion_mnist.load_data()\n",
    "images = np.concatenate((train_images, test_images))\n",
    "labels = np.concatenate((train_labels, test_labels))\n",
    "print(f'Train: {len(train_images)}, Test: {len(test_images)}, Total: {len(images)}')"
   ]
  },
  {
   "cell_type": "code",
   "execution_count": null,
   "id": "1c851454",
   "metadata": {},
   "outputs": [],
   "source": [
    "# https://www.tensorflow.org/api_docs/python/tf/keras/datasets/fashion_mnist/load_data\n",
    "labelnames = ['T-shirt', 'Trouser', 'Pullover', 'Dress', 'Coat', 'Sandal', 'Shirt', 'Sneaker', 'Bag', 'Ankle boot']\n",
    "labelnames"
   ]
  },
  {
   "cell_type": "code",
   "execution_count": null,
   "id": "6e7d836c-0cbb-455c-b464-23218f13044a",
   "metadata": {},
   "outputs": [],
   "source": [
    "# Data distribution table (csv)\n",
    "div = pd.read_csv('div-fashionmnist.csv', index_col='Clients')\n",
    "div.fillna(0, inplace=True)\n",
    "div.drop(columns=['Total'], inplace=True)\n",
    "div.drop(index=['Total'], inplace=True)\n",
    "div"
   ]
  },
  {
   "cell_type": "code",
   "execution_count": null,
   "id": "d139dfad-d5b7-4f05-af9b-01dc92115d86",
   "metadata": {},
   "outputs": [],
   "source": [
    "row_index = []\n",
    "row_data = []\n",
    "test_ratio = 0.15\n",
    "train_ratio = 1 - test_ratio\n",
    "for index, row in div.iterrows():\n",
    "    row_index.append(f'{index} train')\n",
    "    row_data.append(np.rint(row*train_ratio))\n",
    "    row_index.append(f'{index} test')\n",
    "    row_data.append(np.rint(row*test_ratio))\n",
    "df = pd.DataFrame(data=row_data, index=row_index, dtype=div.iloc[0].dtype)\n",
    "df"
   ]
  },
  {
   "cell_type": "code",
   "execution_count": null,
   "id": "d63f4b96-5a5d-4de3-b185-2dec8efcc411",
   "metadata": {},
   "outputs": [],
   "source": [
    "# Count each labels\n",
    "total = {}\n",
    "for idx, data in enumerate(zip(images, labels), start=0):\n",
    "    label = labelnames[data[1]]\n",
    "    total[label] = total.get(label, 0) + 1\n",
    "total"
   ]
  },
  {
   "cell_type": "code",
   "execution_count": null,
   "id": "9b58ee2c-06ad-4f81-acf1-82e9aa02cfcd",
   "metadata": {},
   "outputs": [],
   "source": [
    "np.sum(df, axis=0)"
   ]
  },
  {
   "cell_type": "code",
   "execution_count": null,
   "id": "6ec9dd0b-b698-4169-9701-cdce1ddd4c2c",
   "metadata": {},
   "outputs": [],
   "source": [
    "np.sum(df, axis=1)"
   ]
  },
  {
   "cell_type": "code",
   "execution_count": null,
   "id": "0a430fa1-5580-4ac2-9ea4-e4ecd492a676",
   "metadata": {},
   "outputs": [],
   "source": [
    "dataset_root = os.path.abspath(os.path.expanduser('dataset-fashionmnist'))"
   ]
  },
  {
   "cell_type": "code",
   "execution_count": null,
   "id": "8f6fb1d5-ef30-46a6-bb76-a465ccc01168",
   "metadata": {},
   "outputs": [],
   "source": [
    "# Write dataset\n",
    "left = df.copy(deep=True)\n",
    "counter = {}\n",
    "for idx, data in enumerate(zip(images, labels), start=0):\n",
    "    image = Image.fromarray(data[0])\n",
    "    label = labelnames[data[1]]\n",
    "    num = counter.get(label, 0)\n",
    "    party, split = random.choice(left.loc[left.loc[:, label] > 0].index).split(' ')\n",
    "    odir = os.path.join(dataset_root, f'{party}', f'{split}', label)\n",
    "    os.makedirs(odir, exist_ok=True)\n",
    "    opath = os.path.join(odir, f'{num:04d}.jpg')\n",
    "    image.save(opath)\n",
    "    left.loc[f'{party} {split}', label] = left.loc[f'{party} {split}', label] - 1\n",
    "    counter[label] = num + 1\n",
    "left"
   ]
  },
  {
   "cell_type": "markdown",
   "id": "71e3523a-9e5e-4e13-a46d-f96c84fb4a84",
   "metadata": {},
   "source": [
    "## Create simbolic link for round"
   ]
  },
  {
   "cell_type": "code",
   "execution_count": null,
   "id": "06a76688-4d99-4af0-ac90-f46f807ab394",
   "metadata": {},
   "outputs": [],
   "source": [
    "found = pd.read_csv('round-fashionmnist.csv', index_col='Clients')\n",
    "found.fillna(-1, inplace=True)\n",
    "found = found.astype('int')\n",
    "found.drop(columns=['Total'], inplace=True)\n",
    "found.drop(index=['Total'], inplace=True)\n",
    "found"
   ]
  },
  {
   "cell_type": "code",
   "execution_count": null,
   "id": "38102e3e-f646-42cd-877b-d5f0cf9419f2",
   "metadata": {},
   "outputs": [],
   "source": [
    "found_round = np.unique(found.values).tolist()\n",
    "found_round.remove(-1)\n",
    "found_round.sort(reverse=False)\n",
    "found_round"
   ]
  },
  {
   "cell_type": "code",
   "execution_count": null,
   "id": "077d8b73-84d8-47ac-b119-29116b992e78",
   "metadata": {},
   "outputs": [],
   "source": [
    "found_label = dict()\n",
    "for fr in found_round:\n",
    "    label = found_label.get('all', dict())\n",
    "    label[fr] = found.columns[((-1 < found.loc[:, :]) & \n",
    "                               (found.loc[:, :] <= fr)).any()]\n",
    "    found_label['all'] = label\n",
    "    for c in found.index:\n",
    "        label = found_label.get(c, dict())\n",
    "        label[fr] = found.columns[((-1 < found.loc[c, :]) & \n",
    "                                   (found.loc[c, :] <= fr))]\n",
    "        found_label[c] = label\n",
    "found_label"
   ]
  },
  {
   "cell_type": "code",
   "execution_count": null,
   "id": "ae52e96f-f0cd-4ab3-9168-f6bd3e25f3cb",
   "metadata": {},
   "outputs": [],
   "source": [
    "scenario_root = os.path.join(dataset_root, 'scenario')\n",
    "scenario_root"
   ]
  },
  {
   "cell_type": "code",
   "execution_count": null,
   "id": "99573908-4cb8-4a3e-9d08-dead07751f35",
   "metadata": {},
   "outputs": [],
   "source": [
    "for c, value in found_label.items():\n",
    "    if c == 'all':\n",
    "        continue\n",
    "    for fr, labels in value.items():\n",
    "        for label in labels:\n",
    "            for subset in ['train', 'test']:\n",
    "                src_path = os.path.join(dataset_root, c, subset, label)\n",
    "                scenario_base = os.path.join(scenario_root, c, f'{fr}', subset)\n",
    "                os.makedirs(scenario_base, exist_ok=True)\n",
    "                dst_path = os.path.join(scenario_base, label)\n",
    "                # os.symlink(src_path, dst_path)\n",
    "                src_relpath = os.path.relpath(src_path, scenario_base)\n",
    "                os.symlink(src_relpath, dst_path)"
   ]
  },
  {
   "cell_type": "markdown",
   "id": "54aa6be0-57f5-4663-a30a-d6139694c704",
   "metadata": {},
   "source": [
    "## Create dataset for centralized learning (baseline: upper-bound)"
   ]
  },
  {
   "cell_type": "code",
   "execution_count": null,
   "id": "08351512-4d8b-4b5f-883f-9bd7bf2a99fe",
   "metadata": {},
   "outputs": [],
   "source": [
    "found = pd.read_csv('round-fashionmnist.csv', index_col='Clients')\n",
    "found.fillna(-1, inplace=True)\n",
    "found = found.astype('int')\n",
    "found.drop(columns=['Total'], inplace=True)\n",
    "found.drop(index=['Total'], inplace=True)\n",
    "found"
   ]
  },
  {
   "cell_type": "code",
   "execution_count": null,
   "id": "4af78c77-b0bc-4115-a797-264ce5daa94a",
   "metadata": {},
   "outputs": [],
   "source": [
    "found_round = np.unique(found.values).tolist()\n",
    "found_round.remove(-1)\n",
    "found_round.sort(reverse=False)\n",
    "found_round"
   ]
  },
  {
   "cell_type": "code",
   "execution_count": null,
   "id": "a6ea022c-0024-4a0d-8560-bc5e4d36c772",
   "metadata": {},
   "outputs": [],
   "source": [
    "found_label = dict()\n",
    "for fr in found_round:\n",
    "    label = found_label.get('all', dict())\n",
    "    label[fr] = found.columns[((-1 < found.loc[:, :]) & \n",
    "                               (found.loc[:, :] <= fr)).any()]\n",
    "    found_label['all'] = label\n",
    "    for c in found.index:\n",
    "        label = found_label.get(c, dict())\n",
    "        label[fr] = found.columns[((-1 < found.loc[c, :]) & \n",
    "                                   (found.loc[c, :] <= fr))]\n",
    "        found_label[c] = label\n",
    "found_label"
   ]
  },
  {
   "cell_type": "code",
   "execution_count": null,
   "id": "0e9cca80-e767-4b80-bcf6-730a526f46a9",
   "metadata": {},
   "outputs": [],
   "source": [
    "center_root = os.path.join(dataset_root, 'center')\n",
    "center_root"
   ]
  },
  {
   "cell_type": "code",
   "execution_count": null,
   "id": "a2c24e23-5471-44e1-ae0c-345aef74868e",
   "metadata": {},
   "outputs": [],
   "source": [
    "for c, value in found_label.items():\n",
    "    if c == 'all':\n",
    "        continue\n",
    "    for fr, labels in value.items():\n",
    "        for subset in ['train', 'test']:\n",
    "            for label in labels:\n",
    "                src_path = os.path.join(dataset_root, c, subset, label)\n",
    "                with os.scandir(src_path) as it:\n",
    "                    for entry in it:\n",
    "                        if not entry.name.startswith('.') and entry.is_file():\n",
    "                            center_base = os.path.join(center_root, subset, label)\n",
    "                            os.makedirs(center_base, exist_ok=True)\n",
    "                            dst_path = os.path.join(center_base, entry.name)\n",
    "                            if not os.path.exists(dst_path):\n",
    "                                # os.symlink(entry.path, dst_path)\n",
    "                                src_relpath = os.path.relpath(entry.path, center_base)\n",
    "                                os.symlink(src_relpath, dst_path)"
   ]
  },
  {
   "cell_type": "code",
   "execution_count": null,
   "id": "4d9959af-bb6b-4951-a40d-81ab0179e953",
   "metadata": {},
   "outputs": [],
   "source": []
  }
 ],
 "metadata": {
  "kernelspec": {
   "display_name": "FLHub",
   "language": "python",
   "name": "flhub"
  },
  "language_info": {
   "codemirror_mode": {
    "name": "ipython",
    "version": 3
   },
   "file_extension": ".py",
   "mimetype": "text/x-python",
   "name": "python",
   "nbconvert_exporter": "python",
   "pygments_lexer": "ipython3",
   "version": "3.10.5"
  }
 },
 "nbformat": 4,
 "nbformat_minor": 5
}
