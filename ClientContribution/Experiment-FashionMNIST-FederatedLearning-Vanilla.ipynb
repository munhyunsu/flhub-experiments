{
 "cells": [
  {
   "cell_type": "markdown",
   "id": "687b7634-289b-4ce4-a724-f5d3c10bcbf6",
   "metadata": {},
   "source": [
    "# Experiment with Fashion MNIST\n",
    "## Federated learning with vanila"
   ]
  },
  {
   "cell_type": "code",
   "execution_count": null,
   "id": "6a2a70cd-0a40-4bb8-850b-e0743eb19a6f",
   "metadata": {},
   "outputs": [],
   "source": []
  }
 ],
 "metadata": {
  "kernelspec": {
   "display_name": "FLHub",
   "language": "python",
   "name": "flhub"
  },
  "language_info": {
   "codemirror_mode": {
    "name": "ipython",
    "version": 3
   },
   "file_extension": ".py",
   "mimetype": "text/x-python",
   "name": "python",
   "nbconvert_exporter": "python",
   "pygments_lexer": "ipython3",
   "version": "3.10.8"
  }
 },
 "nbformat": 4,
 "nbformat_minor": 5
}
