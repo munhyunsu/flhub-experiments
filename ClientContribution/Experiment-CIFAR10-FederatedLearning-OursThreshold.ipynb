{
 "cells": [
  {
   "cell_type": "markdown",
   "id": "2f1e77cd-1d0c-4628-b60c-7fd3dfa814c6",
   "metadata": {},
   "source": [
    "# Experiment with CIFAR10\n",
    "## Federated learning with ours threshold 3"
   ]
  },
  {
   "cell_type": "code",
   "execution_count": null,
   "id": "aa514a5f-2087-43b8-bc99-f19317bbff47",
   "metadata": {},
   "outputs": [],
   "source": []
  }
 ],
 "metadata": {
  "kernelspec": {
   "display_name": "FLHub",
   "language": "python",
   "name": "flhub"
  },
  "language_info": {
   "codemirror_mode": {
    "name": "ipython",
    "version": 3
   },
   "file_extension": ".py",
   "mimetype": "text/x-python",
   "name": "python",
   "nbconvert_exporter": "python",
   "pygments_lexer": "ipython3",
   "version": "3.10.8"
  }
 },
 "nbformat": 4,
 "nbformat_minor": 5
}
