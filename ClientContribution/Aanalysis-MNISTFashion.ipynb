{
 "cells": [
  {
   "cell_type": "markdown",
   "id": "4b23c9d6-541b-46f8-8cf2-79cadf838705",
   "metadata": {},
   "source": [
    "# Analysis code\n",
    "## For MNIST Fashion"
   ]
  },
  {
   "cell_type": "code",
   "execution_count": null,
   "id": "fb28ebd6-4c91-4e86-98d3-24765a2ae8c4",
   "metadata": {},
   "outputs": [],
   "source": []
  }
 ],
 "metadata": {
  "kernelspec": {
   "display_name": "FLHub",
   "language": "python",
   "name": "flhub"
  },
  "language_info": {
   "codemirror_mode": {
    "name": "ipython",
    "version": 3
   },
   "file_extension": ".py",
   "mimetype": "text/x-python",
   "name": "python",
   "nbconvert_exporter": "python",
   "pygments_lexer": "ipython3",
   "version": "3.10.8"
  }
 },
 "nbformat": 4,
 "nbformat_minor": 5
}
