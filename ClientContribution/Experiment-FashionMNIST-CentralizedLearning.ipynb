{
 "cells": [
  {
   "cell_type": "markdown",
   "id": "7e3ed56a-b369-4ef2-b4a5-90bc99768116",
   "metadata": {},
   "source": [
    "# Experiment with Fashion MNIST\n",
    "## Centralized learning for baseline"
   ]
  },
  {
   "cell_type": "code",
   "execution_count": null,
   "id": "71a645f4-1057-4d5d-a628-5eb48844f365",
   "metadata": {},
   "outputs": [],
   "source": [
    "import os\n",
    "# os.environ['CUDA_VISIBLE_DEVICES'] = '-1'\n",
    "import pickle\n",
    "import time\n",
    "import datetime\n",
    "\n",
    "import tensorflow as tf\n",
    "tf.get_logger().setLevel('ERROR')\n",
    "tf.autograph.set_verbosity(0)\n",
    "import tensorflow_hub as hub\n",
    "import numpy as np\n",
    "import pandas as pd"
   ]
  },
  {
   "cell_type": "code",
   "execution_count": null,
   "id": "f5f4ac93-a3df-4420-ad77-e9d0ed2084fe",
   "metadata": {},
   "outputs": [],
   "source": [
    "print(\"Num GPUs Available: \", len(tf.config.list_physical_devices('GPU')))"
   ]
  },
  {
   "cell_type": "code",
   "execution_count": null,
   "id": "3146eec1-0a41-4a31-8ae1-1830c9458371",
   "metadata": {},
   "outputs": [],
   "source": [
    "labelnames = ['T-shirt', 'Trouser', 'Pullover', 'Dress', 'Coat', 'Sandal', 'Shirt', 'Sneaker', 'Bag', 'Ankle boot']\n",
    "labelnames"
   ]
  },
  {
   "cell_type": "code",
   "execution_count": null,
   "id": "190c00ae-9385-4d2e-a31b-43b6cfeb9e9c",
   "metadata": {},
   "outputs": [],
   "source": [
    "dataset_root = os.path.abspath(os.path.expanduser('dataset-fashionmnist'))\n",
    "dataset_root = os.path.join(dataset_root, 'center')\n",
    "dataset_root"
   ]
  },
  {
   "cell_type": "code",
   "execution_count": null,
   "id": "5be1e942-a7d4-453e-bab7-5253de897bd5",
   "metadata": {},
   "outputs": [],
   "source": [
    "image_generator = tf.keras.preprocessing.image.ImageDataGenerator(rescale=1/255)\n",
    "target_size = (28, 28, 3)\n",
    "datasets = dict()\n",
    "for subset in ['train', 'test']:\n",
    "    path = os.path.join(dataset_root, subset)\n",
    "    datasets[subset] = image_generator.flow_from_directory(path, classes=labelnames,\n",
    "                                                           target_size=target_size[:-1], shuffle=True,\n",
    "                                                           follow_links=True)\n",
    "datasets"
   ]
  },
  {
   "cell_type": "code",
   "execution_count": null,
   "id": "9dea23fd-c9ea-4553-a0cb-4e7ed03794c1",
   "metadata": {},
   "outputs": [],
   "source": [
    "model = tf.keras.models.Sequential([\n",
    "                       tf.keras.layers.Conv2D(32, (3, 3), activation='relu', input_shape=target_size),\n",
    "                       tf.keras.layers.MaxPooling2D((2, 2)),\n",
    "                       tf.keras.layers.Conv2D(64, (3, 3), activation='relu'),\n",
    "                       tf.keras.layers.MaxPooling2D((2, 2)),\n",
    "                       tf.keras.layers.Conv2D(128, (3, 3), activation='relu'),\n",
    "                       tf.keras.layers.Flatten(),\n",
    "                       tf.keras.layers.Dense(128, activation='relu'),\n",
    "                       tf.keras.layers.Dense(len(labelnames))])\n",
    "model.compile(optimizer=tf.keras.optimizers.Adam(),\n",
    "              loss=tf.keras.losses.CategoricalCrossentropy(from_logits=True),\n",
    "              metrics=['accuracy'])\n",
    "model.summary()"
   ]
  },
  {
   "cell_type": "code",
   "execution_count": null,
   "id": "6094b9b6-b510-4d32-bebd-b8be2b8455ff",
   "metadata": {},
   "outputs": [],
   "source": [
    "epochs = 200\n",
    "returns = model.fit(datasets['train'],\n",
    "                    validation_data=datasets['test'],\n",
    "                    epochs=epochs)"
   ]
  },
  {
   "cell_type": "code",
   "execution_count": null,
   "id": "f721d038-03a3-4f8e-9d5c-1d4364439459",
   "metadata": {},
   "outputs": [],
   "source": [
    "today = datetime.datetime.now().strftime('%y%m%d%H%M%S')\n",
    "with open(f'result-fashionmnist-centralizedlearning-{today}.pkl', 'wb') as f:\n",
    "    pickle.dump(returns.history, f)"
   ]
  }
 ],
 "metadata": {
  "kernelspec": {
   "display_name": "FLHub",
   "language": "python",
   "name": "flhub"
  },
  "language_info": {
   "codemirror_mode": {
    "name": "ipython",
    "version": 3
   },
   "file_extension": ".py",
   "mimetype": "text/x-python",
   "name": "python",
   "nbconvert_exporter": "python",
   "pygments_lexer": "ipython3",
   "version": "3.10.8"
  }
 },
 "nbformat": 4,
 "nbformat_minor": 5
}
