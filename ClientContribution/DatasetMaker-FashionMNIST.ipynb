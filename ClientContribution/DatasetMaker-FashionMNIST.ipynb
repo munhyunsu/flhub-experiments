{
 "cells": [
  {
   "cell_type": "markdown",
   "id": "3e04dfa7-851f-4970-a9d0-f9803392e178",
   "metadata": {},
   "source": [
    "# Fashion MNIST Dataset Maker"
   ]
  },
  {
   "cell_type": "code",
   "execution_count": null,
   "id": "1dc7bf57-3ccf-4bf1-846a-dc49e0001ddf",
   "metadata": {},
   "outputs": [],
   "source": [
    "import os\n",
    "os.environ['CUDA_VISIBLE_DEVICES'] = '-1'\n",
    "import random\n",
    "\n",
    "import tensorflow as tf\n",
    "import numpy as np\n",
    "import pandas as pd\n",
    "import PIL.Image as Image"
   ]
  },
  {
   "cell_type": "code",
   "execution_count": null,
   "id": "d8d11d5f-aee1-4fee-a701-382647e0322c",
   "metadata": {},
   "outputs": [],
   "source": [
    "# https://www.tensorflow.org/api_docs/python/tf/keras/datasets/fashion_mnist\n",
    "(train_images, train_labels), (test_images, test_labels) = tf.keras.datasets.fashion_mnist.load_data()\n",
    "images = np.concatenate((train_images, test_images))\n",
    "labels = np.concatenate((train_labels, test_labels))\n",
    "print(f'Train: {len(train_images)}, Test: {len(test_images)}, Total: {len(images)}')"
   ]
  },
  {
   "cell_type": "code",
   "execution_count": null,
   "id": "b6f3f779-d1da-4cae-8825-43d9003436aa",
   "metadata": {},
   "outputs": [],
   "source": [
    "# https://www.tensorflow.org/api_docs/python/tf/keras/datasets/fashion_mnist/load_data\n",
    "labelnames = ['T-shirt', 'Trouser', 'Pullover', 'Dress', 'Coat', 'Sandal', 'Shirt', 'Sneaker', 'Bag', 'Ankle boot']\n",
    "labelnames"
   ]
  },
  {
   "cell_type": "code",
   "execution_count": null,
   "id": "840ef554-5efa-491c-af95-9916a33b5416",
   "metadata": {},
   "outputs": [],
   "source": [
    "# Data distribution table (csv)\n",
    "div = pd.read_csv('div-fashionmnist.csv', index_col='Clients')\n",
    "div.fillna(0, inplace=True)\n",
    "div.drop(columns=['Total'], inplace=True)\n",
    "div.drop(index=['Total'], inplace=True)\n",
    "div"
   ]
  },
  {
   "cell_type": "code",
   "execution_count": null,
   "id": "2d224cbf-b6dc-4745-b2b7-e4fa9923bcfb",
   "metadata": {},
   "outputs": [],
   "source": [
    "row_index = []\n",
    "row_data = []\n",
    "test_ratio = 0.15\n",
    "train_ratio = 1 - test_ratio\n",
    "for index, row in div.iterrows():\n",
    "    row_index.append(f'{index} train')\n",
    "    row_data.append(np.rint(row*train_ratio))\n",
    "    row_index.append(f'{index} test')\n",
    "    row_data.append(np.rint(row*test_ratio))\n",
    "df = pd.DataFrame(data=row_data, index=row_index, dtype=div.iloc[0].dtype)\n",
    "df"
   ]
  },
  {
   "cell_type": "code",
   "execution_count": null,
   "id": "e717e06b-5a27-407e-beb2-d0bb2c8bd802",
   "metadata": {},
   "outputs": [],
   "source": [
    "# Count each labels\n",
    "total = {}\n",
    "for idx, data in enumerate(zip(images, labels), start=0):\n",
    "    label = labelnames[data[1]]\n",
    "    total[label] = total.get(label, 0) + 1\n",
    "total"
   ]
  },
  {
   "cell_type": "code",
   "execution_count": null,
   "id": "07f81ac3-4095-4743-b1b1-e2f45145fb5a",
   "metadata": {},
   "outputs": [],
   "source": [
    "dataset_root = os.path.abspath(os.path.expanduser('dataset-fashionmnist'))\n",
    "dataset_root"
   ]
  },
  {
   "cell_type": "code",
   "execution_count": null,
   "id": "d5f471c7-674d-4965-85aa-0f69d43a15d1",
   "metadata": {},
   "outputs": [],
   "source": [
    "# Write dataset\n",
    "left = df.copy(deep=True)\n",
    "counter = {}\n",
    "for idx, data in enumerate(zip(images, labels), start=0):\n",
    "    image = Image.fromarray(data[0])\n",
    "    label = labelnames[data[1]]\n",
    "    num = counter.get(label, 0)\n",
    "    party, split = random.choice(left.loc[left.loc[:, label] > 0].index).split(' ')\n",
    "    odir = os.path.join(dataset_root, f'{party}', f'{split}', label)\n",
    "    os.makedirs(odir, exist_ok=True)\n",
    "    opath = os.path.join(odir, f'{num:04d}.jpg')\n",
    "    image.save(opath)\n",
    "    left.loc[f'{party} {split}', label] = left.loc[f'{party} {split}', label] - 1\n",
    "    counter[label] = num + 1\n",
    "left"
   ]
  },
  {
   "cell_type": "markdown",
   "id": "8f6b0f49-e296-498a-89b4-86bf993e89f4",
   "metadata": {},
   "source": [
    "## Create simbolic link for round"
   ]
  },
  {
   "cell_type": "code",
   "execution_count": null,
   "id": "3f9e4b0f-03c2-4690-8419-4c12428b6620",
   "metadata": {},
   "outputs": [],
   "source": [
    "found = pd.read_csv('round-fashionmnist.csv', index_col='Clients')\n",
    "found.fillna(-1, inplace=True)\n",
    "found = found.astype('int')\n",
    "found.drop(columns=['Total'], inplace=True)\n",
    "found.drop(index=['Total'], inplace=True)\n",
    "found"
   ]
  },
  {
   "cell_type": "code",
   "execution_count": null,
   "id": "8fe41fd4-3d9e-4870-8e29-0a24da18839e",
   "metadata": {},
   "outputs": [],
   "source": [
    "found_round = np.unique(found.values).tolist()\n",
    "found_round.remove(-1)\n",
    "found_round.sort(reverse=False)\n",
    "found_round"
   ]
  },
  {
   "cell_type": "code",
   "execution_count": null,
   "id": "92a7670a-a6a1-4af0-a91f-c58e09c9fd85",
   "metadata": {},
   "outputs": [],
   "source": [
    "found_label = dict()\n",
    "for fr in found_round:\n",
    "    label = found_label.get('all', dict())\n",
    "    label[fr] = found.columns[((-1 < found.loc[:, :]) & \n",
    "                               (found.loc[:, :] <= fr)).any()]\n",
    "    found_label['all'] = label\n",
    "    for c in found.index:\n",
    "        label = found_label.get(c, dict())\n",
    "        label[fr] = found.columns[((-1 < found.loc[c, :]) & \n",
    "                                   (found.loc[c, :] <= fr))]\n",
    "        found_label[c] = label\n",
    "found_label"
   ]
  },
  {
   "cell_type": "code",
   "execution_count": null,
   "id": "bbe65791-f1f7-493d-97ee-3fa00b4c1a2d",
   "metadata": {},
   "outputs": [],
   "source": [
    "scenario_root = os.path.join(dataset_root, 'scenario')\n",
    "scenario_root"
   ]
  },
  {
   "cell_type": "code",
   "execution_count": null,
   "id": "e784b8bb-981b-41e6-b53c-90ee03ca93ef",
   "metadata": {},
   "outputs": [],
   "source": [
    "for c, value in found_label.items():\n",
    "    if c == 'all':\n",
    "        continue\n",
    "    for fr, labels in value.items():\n",
    "        for label in labels:\n",
    "            for subset in ['train', 'test']:\n",
    "                src_path = os.path.join(dataset_root, c, subset, label)\n",
    "                scenario_base = os.path.join(scenario_root, c, f'{fr}', subset)\n",
    "                os.makedirs(scenario_base, exist_ok=True)\n",
    "                dst_path = os.path.join(scenario_base, label)\n",
    "                # os.symlink(src_path, dst_path)\n",
    "                src_relpath = os.path.relpath(src_path, scenario_base)\n",
    "                os.symlink(src_relpath, dst_path)"
   ]
  }
 ],
 "metadata": {
  "kernelspec": {
   "display_name": "FLHub",
   "language": "python",
   "name": "flhub"
  },
  "language_info": {
   "codemirror_mode": {
    "name": "ipython",
    "version": 3
   },
   "file_extension": ".py",
   "mimetype": "text/x-python",
   "name": "python",
   "nbconvert_exporter": "python",
   "pygments_lexer": "ipython3",
   "version": "3.10.8"
  }
 },
 "nbformat": 4,
 "nbformat_minor": 5
}
