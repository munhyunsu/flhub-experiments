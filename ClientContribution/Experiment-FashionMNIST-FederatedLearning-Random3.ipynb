{
 "cells": [
  {
   "cell_type": "markdown",
   "id": "63f5ea5f-a65f-4764-853a-cc0d04fd1cfc",
   "metadata": {},
   "source": [
    "# Experiment with Fashion MNIST\n",
    "## Federated learning with random selection 3"
   ]
  },
  {
   "cell_type": "code",
   "execution_count": null,
   "id": "ef6045d8-8f31-4ba3-a563-f461b3a50a71",
   "metadata": {},
   "outputs": [],
   "source": []
  }
 ],
 "metadata": {
  "kernelspec": {
   "display_name": "FLHub",
   "language": "python",
   "name": "flhub"
  },
  "language_info": {
   "codemirror_mode": {
    "name": "ipython",
    "version": 3
   },
   "file_extension": ".py",
   "mimetype": "text/x-python",
   "name": "python",
   "nbconvert_exporter": "python",
   "pygments_lexer": "ipython3",
   "version": "3.10.8"
  }
 },
 "nbformat": 4,
 "nbformat_minor": 5
}
