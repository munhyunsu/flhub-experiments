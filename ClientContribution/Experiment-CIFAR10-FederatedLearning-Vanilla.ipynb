{
 "cells": [
  {
   "cell_type": "markdown",
   "id": "2f6f8f51-1646-4fb6-977a-29289f8295c6",
   "metadata": {},
   "source": [
    "# Experiment with CIFAR10\n",
    "## Federated learning with vanila"
   ]
  },
  {
   "cell_type": "code",
   "execution_count": null,
   "id": "5ff06cf6-10b5-4d3f-a432-50f2fc840dcc",
   "metadata": {},
   "outputs": [],
   "source": [
    "import os\n",
    "os.environ['CUDA_VISIBLE_DEVICES'] = '-1'\n",
    "os.environ['TF_CPP_MIN_LOG_LEVEL'] = '3'\n",
    "os.environ['AUTHGRAPH_VERBOSITY'] = '0'\n",
    "import pickle\n",
    "import time\n",
    "import datetime\n",
    "import random\n",
    "import operator\n",
    "import copy\n",
    "\n",
    "import tensorflow as tf\n",
    "tf.get_logger().setLevel('ERROR')\n",
    "tf.autograph.set_verbosity(0)\n",
    "tf.random.set_seed(6292)\n",
    "import absl.logging\n",
    "absl.logging.set_verbosity(absl.logging.ERROR)\n",
    "import tensorflow_hub as hub\n",
    "import numpy as np\n",
    "import pandas as pd"
   ]
  },
  {
   "cell_type": "code",
   "execution_count": null,
   "id": "3552a03a-1f3a-4751-acc1-121906b8a7aa",
   "metadata": {},
   "outputs": [],
   "source": [
    "print(\"Num GPUs Available: \", len(tf.config.list_physical_devices('GPU')))"
   ]
  },
  {
   "cell_type": "code",
   "execution_count": null,
   "id": "06735fbc-eaf7-4e79-bb16-0594c40231b8",
   "metadata": {},
   "outputs": [],
   "source": [
    "today = datetime.datetime.now().strftime('%Y%m%d%H%M%S')\n",
    "today"
   ]
  },
  {
   "cell_type": "code",
   "execution_count": null,
   "id": "d329dca7-808e-4ef6-a81f-910e1902a6d2",
   "metadata": {},
   "outputs": [],
   "source": [
    "labelnames = ['Airplane', 'Automobile', 'Bird', 'Cat', 'Deer', 'Dog', 'Frog', 'Horse', 'Ship', 'Truck']\n",
    "labelnames"
   ]
  },
  {
   "cell_type": "code",
   "execution_count": null,
   "id": "1c4d7fcc-7259-4d50-9ed1-126d4aff0598",
   "metadata": {},
   "outputs": [],
   "source": [
    "dataset_root = os.path.abspath(os.path.expanduser('dataset-cifar10'))\n",
    "dataset_root"
   ]
  },
  {
   "cell_type": "code",
   "execution_count": null,
   "id": "b538508b-272c-4d32-8031-3d6cd1bf4de6",
   "metadata": {},
   "outputs": [],
   "source": [
    "model_root = os.path.abspath(os.path.expanduser(f'model-cifar10-vanilla-{today}'))\n",
    "model_root"
   ]
  },
  {
   "cell_type": "code",
   "execution_count": null,
   "id": "e2641079-1446-49e4-8ce6-02812eb05dc8",
   "metadata": {},
   "outputs": [],
   "source": [
    "found = pd.read_csv('round-cifar10.csv', index_col='Clients')\n",
    "found.fillna(-1, inplace=True)\n",
    "found = found.astype('int')\n",
    "found.drop(columns=['Total'], inplace=True)\n",
    "found.drop(index=['Total'], inplace=True)\n",
    "found"
   ]
  },
  {
   "cell_type": "code",
   "execution_count": null,
   "id": "444ab567-5371-44de-afaa-298c641ceb4d",
   "metadata": {},
   "outputs": [],
   "source": [
    "found_round = np.unique(found.values).tolist()\n",
    "found_round.remove(-1)\n",
    "found_round.sort(reverse=False)\n",
    "found_round"
   ]
  },
  {
   "cell_type": "code",
   "execution_count": null,
   "id": "ac17b8c9-26fa-46ab-a852-b658fb7f64a7",
   "metadata": {},
   "outputs": [],
   "source": [
    "found_label = dict()\n",
    "for fr in found_round:\n",
    "    label = found_label.get('all', dict())\n",
    "    label[fr] = found.columns[((-1 < found.loc[:, :]) & \n",
    "                               (found.loc[:, :] <= fr)).any()].tolist()\n",
    "    found_label['all'] = label\n",
    "    for c in found.index:\n",
    "        label = found_label.get(c, dict())\n",
    "        label[fr] = found.columns[((-1 < found.loc[c, :]) & \n",
    "                                   (found.loc[c, :] <= fr))].tolist()\n",
    "        found_label[c] = label\n",
    "found_label"
   ]
  },
  {
   "cell_type": "code",
   "execution_count": null,
   "id": "199d3aaf-1a73-4ce8-8646-d5447c509ed8",
   "metadata": {},
   "outputs": [],
   "source": [
    "found_client = dict()\n",
    "for fr in found_round:\n",
    "    found_client[fr] = found.index[((-1 < found.loc[:, :]) & \n",
    "                                    (found.loc[:, :] <= fr)).any(axis=1)].tolist()\n",
    "found_client"
   ]
  },
  {
   "cell_type": "code",
   "execution_count": null,
   "id": "21858b43-edfc-4eec-aa33-e7fe48ec82dd",
   "metadata": {},
   "outputs": [],
   "source": [
    "image_generator = tf.keras.preprocessing.image.ImageDataGenerator(rescale=1/255)\n",
    "target_size = (224, 224, 3)"
   ]
  },
  {
   "cell_type": "code",
   "execution_count": null,
   "id": "6426e97b-a5b2-4b4c-946d-690c9ac8d234",
   "metadata": {},
   "outputs": [],
   "source": [
    "mobilenet_v2 = 'https://tfhub.dev/google/tf2-preview/mobilenet_v2/feature_vector/4'\n",
    "inception_v3 = 'https://tfhub.dev/google/tf2-preview/inception_v3/feature_vector/4'\n",
    "feature_extractor_model = mobilenet_v2"
   ]
  },
  {
   "cell_type": "code",
   "execution_count": null,
   "id": "38011b7a-c40d-456f-b582-ce26258f6dd1",
   "metadata": {},
   "outputs": [],
   "source": [
    "feature_extractor_layer = hub.KerasLayer(feature_extractor_model, input_shape=target_size, trainable=True)\n",
    "feature_extractor_layer"
   ]
  },
  {
   "cell_type": "code",
   "execution_count": null,
   "id": "d85656a0-32f8-4c5f-a8c2-2d4f1b24801b",
   "metadata": {},
   "outputs": [],
   "source": [
    "model = tf.keras.Sequential([feature_extractor_layer,\n",
    "                             tf.keras.layers.Dense(len(found_label['all'][0]))\n",
    "                            ])\n",
    "model.compile(optimizer=tf.keras.optimizers.Adam(),\n",
    "              loss=tf.keras.losses.CategoricalCrossentropy(from_logits=True),\n",
    "              metrics=['accuracy'])\n",
    "model.summary()"
   ]
  },
  {
   "cell_type": "code",
   "execution_count": null,
   "id": "897ff320-2ab7-4047-85b7-f30f0c76fc09",
   "metadata": {},
   "outputs": [],
   "source": [
    "model_path = os.path.join(model_root, f'{0}', 'global')\n",
    "model.save(model_path)"
   ]
  },
  {
   "cell_type": "code",
   "execution_count": null,
   "id": "a53a4304-8c86-4506-a824-9cb5cf59264e",
   "metadata": {},
   "outputs": [],
   "source": [
    "max_round = 120\n",
    "cil_round = 5\n",
    "epochs = 10\n",
    "results = []\n",
    "for fr in range(max_round+1):\n",
    "    # Handle CIL\n",
    "    cil = 0\n",
    "    if fr in found_round:\n",
    "        round_client = found_client[fr]\n",
    "        round_label = found_label['all'][fr]\n",
    "        ### model\n",
    "        global_model_path = os.path.join(model_root, f'{fr}', 'global')\n",
    "        model = tf.keras.models.load_model(global_model_path)\n",
    "        feature_extractor_layer = hub.KerasLayer(feature_extractor_model, \n",
    "                                                 input_shape=target_size, \n",
    "                                                 trainable=True)\n",
    "        new_model = tf.keras.Sequential([feature_extractor_layer,\n",
    "                                         tf.keras.layers.Dense(len(round_label))\n",
    "                                        ])\n",
    "        new_model.compile(optimizer=tf.keras.optimizers.Adam(),\n",
    "                          loss=tf.keras.losses.CategoricalCrossentropy(from_logits=True),\n",
    "                          metrics=['accuracy'])\n",
    "        weights = model.get_weights()\n",
    "        diff = int(abs(weights[-1].shape[0]-len(found_label['all'][fr])))\n",
    "        if diff != 0:\n",
    "            weights[-2] = np.pad(weights[-2], (0, diff), mode='constant', constant_values=0)[:-diff,:]\n",
    "            weights[-1] = np.pad(weights[-1], (0, diff), mode='constant', constant_values=0)\n",
    "            for weight in weights[-2]:\n",
    "                for idx in range(-diff, 0):\n",
    "                    weight[idx] = random.uniform(-1, 1)\n",
    "        new_model.set_weights(weights)\n",
    "        feature_extractor_layer.trainable = False\n",
    "        model_path = os.path.join(model_root, f'{fr}', 'global')\n",
    "        new_model.save(model_path)\n",
    "        cil = cil_round\n",
    "        ### datasets\n",
    "        datasets = dict()\n",
    "        dataset_path = os.path.join(dataset_root, 'center', 'test')\n",
    "        datasets['all'] = image_generator.flow_from_directory(dataset_path, classes=round_label,\n",
    "                                                              target_size=target_size[:-1], shuffle=True,\n",
    "                                                              follow_links=True)\n",
    "        for client in round_client:\n",
    "            train_dataset_path = os.path.join(dataset_root, 'scenario', f'{client}', f'{fr}', 'train')\n",
    "            test_dataset_path = os.path.join(dataset_root, 'scenario', f'{client}', f'{fr}', 'test')\n",
    "            datasets[client] = (image_generator.flow_from_directory(train_dataset_path, classes=round_label,\n",
    "                                                                    target_size=target_size[:-1], shuffle=True,\n",
    "                                                                    follow_links=True),\n",
    "                                image_generator.flow_from_directory(test_dataset_path, classes=round_label,\n",
    "                                                                    target_size=target_size[:-1], shuffle=True,\n",
    "                                                                    follow_links=True))\n",
    "    if cil > 0:\n",
    "        cil = cil - 1\n",
    "    global_model_path = os.path.join(model_root, f'{fr}', 'global')\n",
    "    knowledges = []\n",
    "    for client in round_client:\n",
    "        model = tf.keras.models.load_model(global_model_path)\n",
    "        if cil == 0:\n",
    "            for layer in model.layers:\n",
    "                layer.trainable = True\n",
    "        model.fit(datasets[client][0], \n",
    "                  # validation_data=datasets[client][1],\n",
    "                  epochs=epochs, verbose=0)\n",
    "        model_path = os.path.join(model_root, f'{fr}', f'{client}')\n",
    "        model.save(model_path)\n",
    "        knowledges.append(model.get_weights())\n",
    "    aggregates = copy.deepcopy(knowledges[0])\n",
    "    for knowledge in knowledges[1:]:\n",
    "        for i in range(len(knowledge)):\n",
    "            aggregates[i] = aggregates[i] + knowledge[i]\n",
    "    for i in range(len(aggregates)):\n",
    "        aggregates[i] = aggregates[i] / len(knowledges)\n",
    "    model = tf.keras.models.load_model(global_model_path)\n",
    "    model.set_weights(aggregates)\n",
    "    result = model.evaluate(datasets['all'], verbose=0)\n",
    "    results.append(result)\n",
    "    print(f'Federated round: {fr+1}, Result: {result}')\n",
    "    global_model_path = os.path.join(model_root, f'{fr+1}', 'global')\n",
    "    model.save(global_model_path)"
   ]
  }
 ],
 "metadata": {
  "kernelspec": {
   "display_name": "FLHub",
   "language": "python",
   "name": "flhub"
  },
  "language_info": {
   "codemirror_mode": {
    "name": "ipython",
    "version": 3
   },
   "file_extension": ".py",
   "mimetype": "text/x-python",
   "name": "python",
   "nbconvert_exporter": "python",
   "pygments_lexer": "ipython3",
   "version": "3.10.8"
  }
 },
 "nbformat": 4,
 "nbformat_minor": 5
}
