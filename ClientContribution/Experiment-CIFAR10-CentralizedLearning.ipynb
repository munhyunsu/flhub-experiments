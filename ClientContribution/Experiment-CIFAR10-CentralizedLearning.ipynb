{
 "cells": [
  {
   "cell_type": "markdown",
   "id": "90ce62fe-5794-470f-8ef4-09463cd3747a",
   "metadata": {},
   "source": [
    "# Experiment with CIFAR 10\n",
    "## Centralized learning for baseline"
   ]
  },
  {
   "cell_type": "code",
   "execution_count": null,
   "id": "da9d59a4-edd0-4d90-9ec9-21891c555216",
   "metadata": {},
   "outputs": [],
   "source": [
    "import os\n",
    "# os.environ['CUDA_VISIBLE_DEVICES'] = '-1'\n",
    "import pickle\n",
    "import time\n",
    "import datetime\n",
    "\n",
    "import tensorflow as tf\n",
    "tf.get_logger().setLevel('ERROR')\n",
    "tf.autograph.set_verbosity(0)\n",
    "import tensorflow_hub as hub\n",
    "import numpy as np\n",
    "import pandas as pd"
   ]
  },
  {
   "cell_type": "code",
   "execution_count": null,
   "id": "1eba6564-6471-480b-9f80-72d1506daaca",
   "metadata": {},
   "outputs": [],
   "source": [
    "print(\"Num GPUs Available: \", len(tf.config.list_physical_devices('GPU')))"
   ]
  },
  {
   "cell_type": "code",
   "execution_count": null,
   "id": "29236899-4913-42c4-afb3-fca52097e529",
   "metadata": {},
   "outputs": [],
   "source": [
    "labelnames = ['Airplane', 'Automobile', 'Bird', 'Cat', 'Deer', 'Dog', 'Frog', 'Horse', 'Ship', 'Truck']\n",
    "labelnames"
   ]
  },
  {
   "cell_type": "code",
   "execution_count": null,
   "id": "bcc18d4d-9ac1-4356-a93f-dfbed0056d17",
   "metadata": {},
   "outputs": [],
   "source": [
    "dataset_root = os.path.abspath(os.path.expanduser('dataset-cifar10'))\n",
    "dataset_root = os.path.join(dataset_root, 'center')\n",
    "dataset_root"
   ]
  },
  {
   "cell_type": "code",
   "execution_count": null,
   "id": "af455a58-26b0-475f-85d6-7123920eb256",
   "metadata": {},
   "outputs": [],
   "source": [
    "image_generator = tf.keras.preprocessing.image.ImageDataGenerator(rescale=1/255)\n",
    "target_size = (224, 224, 3)\n",
    "datasets = dict()\n",
    "for subset in ['train', 'test']:\n",
    "    path = os.path.join(dataset_root, subset)\n",
    "    datasets[subset] = image_generator.flow_from_directory(path, classes=labelnames,\n",
    "                                                           target_size=target_size[:-1], shuffle=True,\n",
    "                                                           follow_links=True)\n",
    "datasets"
   ]
  },
  {
   "cell_type": "code",
   "execution_count": null,
   "id": "d607d08f-061d-42e7-be67-ac3751e225a2",
   "metadata": {},
   "outputs": [],
   "source": [
    "mobilenet_v2 = 'https://tfhub.dev/google/tf2-preview/mobilenet_v2/feature_vector/4'\n",
    "inception_v3 = 'https://tfhub.dev/google/tf2-preview/inception_v3/feature_vector/4'\n",
    "feature_extractor_model = mobilenet_v2"
   ]
  },
  {
   "cell_type": "code",
   "execution_count": null,
   "id": "171c1162-38d0-453e-a2a1-d6db4114624f",
   "metadata": {},
   "outputs": [],
   "source": [
    "feature_extractor_layer = hub.KerasLayer(feature_extractor_model, input_shape=target_size, trainable=True)\n",
    "feature_extractor_layer"
   ]
  },
  {
   "cell_type": "code",
   "execution_count": null,
   "id": "b27bd669-a7a6-493f-8946-7ce28e5ad499",
   "metadata": {},
   "outputs": [],
   "source": [
    "model = tf.keras.Sequential([\n",
    "    feature_extractor_layer,\n",
    "    tf.keras.layers.Dense(len(labelnames))\n",
    "])\n",
    "model.compile(optimizer=tf.keras.optimizers.Adam(),\n",
    "              loss=tf.keras.losses.CategoricalCrossentropy(from_logits=True),\n",
    "              metrics=['accuracy'])\n",
    "model.summary()"
   ]
  },
  {
   "cell_type": "code",
   "execution_count": null,
   "id": "287b483a-b30a-4c7f-b6be-c5c8fb668592",
   "metadata": {},
   "outputs": [],
   "source": [
    "epochs = 120\n",
    "returns = model.fit(datasets['train'],\n",
    "                    validation_data=datasets['test'],\n",
    "                    epochs=epochs)"
   ]
  },
  {
   "cell_type": "code",
   "execution_count": null,
   "id": "8f0b2b5e-9396-4d1e-a972-9dc1f29a6c07",
   "metadata": {},
   "outputs": [],
   "source": [
    "today = datetime.datetime.now().strftime('%y%m%d%H%M%S')\n",
    "with open(f'result-cifar10-centralizedlearning-{today}.pkl', 'wb') as f:\n",
    "    pickle.dump(returns.history, f)"
   ]
  }
 ],
 "metadata": {
  "kernelspec": {
   "display_name": "FLHub",
   "language": "python",
   "name": "flhub"
  },
  "language_info": {
   "codemirror_mode": {
    "name": "ipython",
    "version": 3
   },
   "file_extension": ".py",
   "mimetype": "text/x-python",
   "name": "python",
   "nbconvert_exporter": "python",
   "pygments_lexer": "ipython3",
   "version": "3.10.8"
  }
 },
 "nbformat": 4,
 "nbformat_minor": 5
}
