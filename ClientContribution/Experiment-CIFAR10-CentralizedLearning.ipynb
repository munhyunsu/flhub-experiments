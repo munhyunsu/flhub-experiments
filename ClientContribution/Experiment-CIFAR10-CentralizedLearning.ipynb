{
 "cells": [
  {
   "cell_type": "markdown",
   "id": "90ce62fe-5794-470f-8ef4-09463cd3747a",
   "metadata": {},
   "source": [
    "# Experiment with CIFAR 10\n",
    "## Centralized learning for baseline"
   ]
  },
  {
   "cell_type": "code",
   "execution_count": null,
   "id": "da9d59a4-edd0-4d90-9ec9-21891c555216",
   "metadata": {},
   "outputs": [],
   "source": [
    "import os\n",
    "# os.environ['CUDA_VISIBLE_DEVICES'] = '-1'\n",
    "import pickle\n",
    "import time\n",
    "import datetime\n",
    "\n",
    "import tensorflow as tf\n",
    "tf.get_logger().setLevel('ERROR')\n",
    "tf.autograph.set_verbosity(0)\n",
    "import tensorflow_hub as hub\n",
    "import numpy as np\n",
    "import pandas as pd"
   ]
  },
  {
   "cell_type": "code",
   "execution_count": null,
   "id": "1eba6564-6471-480b-9f80-72d1506daaca",
   "metadata": {},
   "outputs": [],
   "source": [
    "print(\"Num GPUs Available: \", len(tf.config.list_physical_devices('GPU')))"
   ]
  },
  {
   "cell_type": "code",
   "execution_count": null,
   "id": "29236899-4913-42c4-afb3-fca52097e529",
   "metadata": {},
   "outputs": [],
   "source": [
    "labelnames = ['Airplane', 'Automobile', 'Bird', 'Cat', 'Deer', 'Dog', 'Frog', 'Horse', 'Ship', 'Truck']\n",
    "labelnames"
   ]
  },
  {
   "cell_type": "code",
   "execution_count": null,
   "id": "bcc18d4d-9ac1-4356-a93f-dfbed0056d17",
   "metadata": {},
   "outputs": [],
   "source": [
    "dataset_root = os.path.abspath(os.path.expanduser('dataset-cifar10'))\n",
    "dataset_root = os.path.join(dataset_root, 'center')\n",
    "dataset_root"
   ]
  },
  {
   "cell_type": "code",
   "execution_count": null,
   "id": "af455a58-26b0-475f-85d6-7123920eb256",
   "metadata": {},
   "outputs": [],
   "source": [
    "image_generator = tf.keras.preprocessing.image.ImageDataGenerator(rescale=1/255)\n",
    "target_size = (224, 224, 3)\n",
    "datasets = dict()\n",
    "for subset in ['train', 'test']:\n",
    "    path = os.path.join(dataset_root, subset)\n",
    "    datasets[subset] = image_generator.flow_from_directory(path, classes=labelnames,\n",
    "                                                           target_size=target_size[:-1], shuffle=True,\n",
    "                                                           follow_links=True)\n",
    "datasets"
   ]
  }
 ],
 "metadata": {
  "kernelspec": {
   "display_name": "FLHub",
   "language": "python",
   "name": "flhub"
  },
  "language_info": {
   "codemirror_mode": {
    "name": "ipython",
    "version": 3
   },
   "file_extension": ".py",
   "mimetype": "text/x-python",
   "name": "python",
   "nbconvert_exporter": "python",
   "pygments_lexer": "ipython3",
   "version": "3.10.8"
  }
 },
 "nbformat": 4,
 "nbformat_minor": 5
}
