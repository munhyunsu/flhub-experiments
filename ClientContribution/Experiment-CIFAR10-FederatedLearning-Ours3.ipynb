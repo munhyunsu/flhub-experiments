{
 "cells": [
  {
   "cell_type": "markdown",
   "id": "b102244e-754f-414f-b556-d6bed5a48d83",
   "metadata": {},
   "source": [
    "# Experiment with CIFAR10\n",
    "## Federated learning with ours 3"
   ]
  },
  {
   "cell_type": "code",
   "execution_count": null,
   "id": "242b5707-86fb-4f83-8231-b06ef9404e8f",
   "metadata": {},
   "outputs": [],
   "source": [
    "import os\n",
    "os.environ['CUDA_VISIBLE_DEVICES'] = '-1'\n",
    "os.environ['TF_CPP_MIN_LOG_LEVEL'] = '3'\n",
    "os.environ['AUTHGRAPH_VERBOSITY'] = '0'\n",
    "import pickle\n",
    "import time\n",
    "import datetime\n",
    "import random\n",
    "import operator\n",
    "import copy\n",
    "\n",
    "import tensorflow as tf\n",
    "tf.get_logger().setLevel('ERROR')\n",
    "tf.autograph.set_verbosity(0)\n",
    "tf.random.set_seed(6292)\n",
    "import absl.logging\n",
    "absl.logging.set_verbosity(absl.logging.ERROR)\n",
    "import tensorflow_hub as hub\n",
    "import numpy as np\n",
    "import pandas as pd"
   ]
  },
  {
   "cell_type": "code",
   "execution_count": null,
   "id": "467f6d5a-d34a-460b-90e7-1dfb1113e7f6",
   "metadata": {},
   "outputs": [],
   "source": [
    "print(\"Num GPUs Available: \", len(tf.config.list_physical_devices('GPU')))"
   ]
  },
  {
   "cell_type": "code",
   "execution_count": null,
   "id": "2b346627-39e2-4130-a3c0-e157f96dd101",
   "metadata": {},
   "outputs": [],
   "source": [
    "today = datetime.datetime.now().strftime('%Y%m%d%H%M%S')\n",
    "today"
   ]
  },
  {
   "cell_type": "code",
   "execution_count": null,
   "id": "4e0704d3-99f0-4286-99ed-3734e99f0606",
   "metadata": {},
   "outputs": [],
   "source": [
    "labelnames = ['Airplane', 'Automobile', 'Bird', 'Cat', 'Deer', 'Dog', 'Frog', 'Horse', 'Ship', 'Truck']\n",
    "labelnames"
   ]
  },
  {
   "cell_type": "code",
   "execution_count": null,
   "id": "c8d1b2ae-d63d-416f-b20d-e74a8890c4d2",
   "metadata": {},
   "outputs": [],
   "source": [
    "dataset_root = os.path.abspath(os.path.expanduser('dataset-cifar10'))\n",
    "dataset_root"
   ]
  },
  {
   "cell_type": "code",
   "execution_count": null,
   "id": "981e3f0d-765b-4e0b-93b1-c3b1ab1efa5a",
   "metadata": {},
   "outputs": [],
   "source": [
    "model_root = os.path.abspath(os.path.expanduser(f'model-cifar10-ours3-{today}'))\n",
    "model_root"
   ]
  },
  {
   "cell_type": "code",
   "execution_count": null,
   "id": "6aa9327e-3d15-4e3b-bdda-20463be04037",
   "metadata": {},
   "outputs": [],
   "source": [
    "found = pd.read_csv('round-cifar10.csv', index_col='Clients')\n",
    "found.fillna(-1, inplace=True)\n",
    "found = found.astype('int')\n",
    "found.drop(columns=['Total'], inplace=True)\n",
    "found.drop(index=['Total'], inplace=True)\n",
    "found"
   ]
  },
  {
   "cell_type": "code",
   "execution_count": null,
   "id": "a043321d-e947-4f83-871b-0b41740aa639",
   "metadata": {},
   "outputs": [],
   "source": [
    "found_round = np.unique(found.values).tolist()\n",
    "found_round.remove(-1)\n",
    "found_round.sort(reverse=False)\n",
    "found_round"
   ]
  },
  {
   "cell_type": "code",
   "execution_count": null,
   "id": "55438f4d-b0f0-49d8-a139-ed3526fe04a2",
   "metadata": {},
   "outputs": [],
   "source": [
    "found_label = dict()\n",
    "for fr in found_round:\n",
    "    label = found_label.get('all', dict())\n",
    "    label[fr] = found.columns[((-1 < found.loc[:, :]) & \n",
    "                               (found.loc[:, :] <= fr)).any()].tolist()\n",
    "    found_label['all'] = label\n",
    "    for c in found.index:\n",
    "        label = found_label.get(c, dict())\n",
    "        label[fr] = found.columns[((-1 < found.loc[c, :]) & \n",
    "                                   (found.loc[c, :] <= fr))].tolist()\n",
    "        found_label[c] = label\n",
    "found_label"
   ]
  },
  {
   "cell_type": "code",
   "execution_count": null,
   "id": "cd2bc1aa-6661-451d-9a39-0ffe05aa3641",
   "metadata": {},
   "outputs": [],
   "source": [
    "found_client = dict()\n",
    "for fr in found_round:\n",
    "    found_client[fr] = found.index[((-1 < found.loc[:, :]) & \n",
    "                                    (found.loc[:, :] <= fr)).any(axis=1)].tolist()\n",
    "found_client"
   ]
  },
  {
   "cell_type": "code",
   "execution_count": null,
   "id": "7718155c-6432-4c18-bdcb-5d64fd3877e8",
   "metadata": {},
   "outputs": [],
   "source": [
    "image_generator = tf.keras.preprocessing.image.ImageDataGenerator(rescale=1/255)\n",
    "target_size = (224, 224, 3)"
   ]
  },
  {
   "cell_type": "code",
   "execution_count": null,
   "id": "3542e363-49b3-4335-a126-c4e011af7de3",
   "metadata": {},
   "outputs": [],
   "source": [
    "mobilenet_v2 = 'https://tfhub.dev/google/tf2-preview/mobilenet_v2/feature_vector/4'\n",
    "inception_v3 = 'https://tfhub.dev/google/tf2-preview/inception_v3/feature_vector/4'\n",
    "feature_extractor_model = mobilenet_v2"
   ]
  },
  {
   "cell_type": "code",
   "execution_count": null,
   "id": "d5e31926-51f7-4ca9-89ee-6bf602aa0c73",
   "metadata": {},
   "outputs": [],
   "source": [
    "feature_extractor_layer = hub.KerasLayer(feature_extractor_model, input_shape=target_size, trainable=True)\n",
    "feature_extractor_layer"
   ]
  },
  {
   "cell_type": "code",
   "execution_count": null,
   "id": "d17115e9-f8c0-468f-9e24-988cd9505ff8",
   "metadata": {},
   "outputs": [],
   "source": [
    "model = tf.keras.Sequential([feature_extractor_layer,\n",
    "                             tf.keras.layers.Dense(len(found_label['all'][0]))\n",
    "                            ])\n",
    "model.compile(optimizer=tf.keras.optimizers.Adam(),\n",
    "              loss=tf.keras.losses.CategoricalCrossentropy(from_logits=True),\n",
    "              metrics=['accuracy'])\n",
    "model.summary()"
   ]
  },
  {
   "cell_type": "code",
   "execution_count": null,
   "id": "b05d55e6-e262-4e17-bf3f-afb7c641e5ae",
   "metadata": {},
   "outputs": [],
   "source": [
    "model_path = os.path.join(model_root, f'{0}', 'global')\n",
    "model.save(model_path)"
   ]
  },
  {
   "cell_type": "code",
   "execution_count": null,
   "id": "702a8926-e965-4d6a-b285-6f1db843454c",
   "metadata": {},
   "outputs": [],
   "source": [
    "max_round = 200\n",
    "cil_round = 10\n",
    "max_select = 5\n",
    "epochs = 10\n",
    "results = []\n",
    "for fr in range(max_round+1):\n",
    "    # Handle CIL\n",
    "    cil = 0\n",
    "    if fr in found_round:\n",
    "        round_client = found_client[fr]\n",
    "        round_label = found_label['all'][fr]\n",
    "        ### model\n",
    "        global_model_path = os.path.join(model_root, f'{fr}', 'global')\n",
    "        model = tf.keras.models.load_model(global_model_path)\n",
    "        new_model = tf.keras.models.Sequential([\n",
    "            tf.keras.layers.Conv2D(32, (3, 3), activation='relu', input_shape=target_size),\n",
    "            tf.keras.layers.MaxPooling2D((2, 2)),\n",
    "            tf.keras.layers.Conv2D(64, (3, 3), activation='relu'),\n",
    "            tf.keras.layers.MaxPooling2D((2, 2)),\n",
    "            tf.keras.layers.Conv2D(128, (3, 3), activation='relu'),\n",
    "            tf.keras.layers.Flatten(),\n",
    "            tf.keras.layers.Dense(128, activation='relu'),\n",
    "            tf.keras.layers.Dense(len(round_label))])\n",
    "        new_model.compile(optimizer=tf.keras.optimizers.Adam(),\n",
    "                          loss=tf.keras.losses.CategoricalCrossentropy(from_logits=True),\n",
    "                          metrics=['accuracy'])\n",
    "        weights = model.get_weights()\n",
    "        diff = int(abs(weights[-1].shape[0]-len(found_label['all'][fr])))\n",
    "        if diff != 0:\n",
    "            weights[-2] = np.pad(weights[-2], (0, diff), mode='constant', constant_values=0)[:-diff,:]\n",
    "            weights[-1] = np.pad(weights[-1], (0, diff), mode='constant', constant_values=0)\n",
    "            for weight in weights[-2]:\n",
    "                for idx in range(-diff, 0):\n",
    "                    weight[idx] = random.uniform(-1, 1)\n",
    "        new_model.set_weights(weights)\n",
    "        for layer in new_model.layers[:-2]:\n",
    "            layer.trainable = False\n",
    "        model_path = os.path.join(model_root, f'{fr}', 'global')\n",
    "        new_model.save(model_path)\n",
    "        cil = cil_round\n",
    "        ### datasets\n",
    "        datasets = dict()\n",
    "        dataset_path = os.path.join(dataset_root, 'center', 'test')\n",
    "        datasets['all'] = image_generator.flow_from_directory(dataset_path, classes=round_label,\n",
    "                                                              target_size=target_size[:-1], shuffle=True,\n",
    "                                                              follow_links=True)\n",
    "        for client in round_client:\n",
    "            train_dataset_path = os.path.join(dataset_root, 'scenario', f'{client}', f'{fr}', 'train')\n",
    "            test_dataset_path = os.path.join(dataset_root, 'scenario', f'{client}', f'{fr}', 'test')\n",
    "            datasets[client] = (image_generator.flow_from_directory(train_dataset_path, classes=round_label,\n",
    "                                                                    target_size=target_size[:-1], shuffle=True,\n",
    "                                                                    follow_links=True),\n",
    "                                image_generator.flow_from_directory(test_dataset_path, classes=round_label,\n",
    "                                                                    target_size=target_size[:-1], shuffle=True,\n",
    "                                                                    follow_links=True))\n",
    "    if cil > 0:\n",
    "        cil = cil - 1\n",
    "    # Ready for global model and client model\n",
    "    global_model_path = os.path.join(model_root, f'{fr}', 'global')\n",
    "    knowledges = []\n",
    "    for client in round_client:\n",
    "        model = tf.keras.models.load_model(global_model_path)\n",
    "        if cil == 0:\n",
    "            for layer in model.layers:\n",
    "                layer.trainable = True\n",
    "        model.fit(datasets[client][0], \n",
    "                  # validation_data=datasets[client][1],\n",
    "                  epochs=epochs, verbose=0)\n",
    "        model_path = os.path.join(model_root, f'{fr}', f'{client}')\n",
    "        model.save(model_path)\n",
    "        knowledges.append(model.get_weights())\n",
    "    aggregates = copy.deepcopy(knowledges[0])\n",
    "    for knowledge in knowledges[1:]:\n",
    "        for i in range(len(knowledge)):\n",
    "            aggregates[i] = aggregates[i] + knowledge[i]\n",
    "    for i in range(len(aggregates)):\n",
    "        aggregates[i] = aggregates[i] / len(knowledges)\n",
    "    global_model = tf.keras.models.load_model(global_model_path)\n",
    "    global_model.set_weights(aggregates)\n",
    "    # Raw\n",
    "    confusions = dict()\n",
    "    for client in round_client:\n",
    "        actuals = datasets[client][1].classes\n",
    "        predictions = np.argmax(global_model.predict(datasets[client][1], verbose=0), axis=1)\n",
    "        confusions[client] = tf.math.confusion_matrix(actuals, predictions, len(round_label)).numpy()\n",
    "    # accuracy per each class\n",
    "    accuracies = dict()\n",
    "    for client in round_client:\n",
    "        acc = []\n",
    "        for l in range(len(round_label)):\n",
    "            sample_num = sum(confusions[client][l])\n",
    "            if sample_num != 0:\n",
    "                acc.append(confusions[client][l][l] / sample_num)\n",
    "            else:\n",
    "                acc.append(-1)\n",
    "        accuracies[client] = acc\n",
    "    # client per each class\n",
    "    parties = dict()\n",
    "    for client in round_client:\n",
    "        for l in range(len(round_label)):\n",
    "            if accuracies[client][l] != -1:\n",
    "                parties[l] = parties.get(l, 0) + 1\n",
    "    # raw effects by classes\n",
    "    effects_class = dict()\n",
    "    for l in range(len(round_label)):\n",
    "        acc_sum = 0\n",
    "        for client in round_client:\n",
    "            acc = accuracies[client][l]\n",
    "            if acc != -1:\n",
    "                acc_sum = acc_sum + acc\n",
    "        effect = dict()\n",
    "        for client in round_client:\n",
    "            acc = accuracies[client][l]\n",
    "            if acc != -1 and acc_sum != 0:\n",
    "                effect[client] = acc / acc_sum\n",
    "            elif acc == 0 and acc_sum == 0:\n",
    "                effect[client] = 1 / parties[l]\n",
    "            else:\n",
    "                effect[client] = -1\n",
    "        effects_class[l] = effect\n",
    "    # effects per clients\n",
    "    divs = dict()\n",
    "    for l in range(len(round_label)):\n",
    "        divs[l] = 1 / len(round_label)\n",
    "    effects = dict()\n",
    "    for key, value in effects_class.items():\n",
    "        for client, effect in value.items():\n",
    "            if effect != -1:\n",
    "                effects[client] = effects.get(client, 0) + effect*divs[key]\n",
    "    # selection with contribution\n",
    "    effect_list = list(effects.items())\n",
    "    effect_list.sort(key=operator.itemgetter(1), reverse=True)\n",
    "    knowledges = []\n",
    "    selected = set()\n",
    "    for client, contrib in effect_list[:min(max_select, len(effect_list))]:\n",
    "        selected.add(client)\n",
    "        model_path = os.path.join(model_root, f'{fr}', f'{client}')\n",
    "        model = tf.keras.models.load_model(model_path)\n",
    "        knowledges.append(model.get_weights())\n",
    "    aggregates = copy.deepcopy(knowledges[0])\n",
    "    for knowledge in knowledges[1:]:\n",
    "        for i in range(len(knowledge)):\n",
    "            aggregates[i] = aggregates[i] + knowledge[i]\n",
    "    for i in range(len(aggregates)):\n",
    "        aggregates[i] = aggregates[i] / len(knowledges)\n",
    "    global_model_path = os.path.join(model_root, f'{fr}', 'global')\n",
    "    model = tf.keras.models.load_model(global_model_path)\n",
    "    model.set_weights(aggregates)\n",
    "    result = model.evaluate(datasets['all'], verbose=0)\n",
    "    results.append(result)\n",
    "    print(f'Federated round: {fr+1}, Result: {result}, Selected: {selected} with {effect_list}')\n",
    "    global_model_path = os.path.join(model_root, f'{fr+1}', 'global')\n",
    "    model.save(global_model_path)"
   ]
  }
 ],
 "metadata": {
  "kernelspec": {
   "display_name": "FLHub",
   "language": "python",
   "name": "flhub"
  },
  "language_info": {
   "codemirror_mode": {
    "name": "ipython",
    "version": 3
   },
   "file_extension": ".py",
   "mimetype": "text/x-python",
   "name": "python",
   "nbconvert_exporter": "python",
   "pygments_lexer": "ipython3",
   "version": "3.10.8"
  }
 },
 "nbformat": 4,
 "nbformat_minor": 5
}
