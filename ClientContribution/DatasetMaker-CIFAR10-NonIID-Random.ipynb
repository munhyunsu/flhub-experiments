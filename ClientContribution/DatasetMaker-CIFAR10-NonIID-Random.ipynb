{
 "cells": [
  {
   "cell_type": "markdown",
   "id": "f2386b23",
   "metadata": {},
   "source": [
    "## MNIST Fashion Dataset Maker\n",
    "### Client NonIID"
   ]
  },
  {
   "cell_type": "code",
   "execution_count": null,
   "id": "7be5487a",
   "metadata": {},
   "outputs": [],
   "source": [
    "import os\n",
    "import copy\n",
    "import random\n",
    "import shutil\n",
    "\n",
    "import tensorflow as tf\n",
    "import numpy as np\n",
    "import pandas as pd\n",
    "import PIL.Image as Image"
   ]
  },
  {
   "cell_type": "code",
   "execution_count": null,
   "id": "12e6e65d",
   "metadata": {},
   "outputs": [],
   "source": [
    "(train_images, train_labels), (test_images, test_labels) = tf.keras.datasets.cifar10.load_data()\n",
    "images = np.concatenate((train_images, test_images))\n",
    "labels = np.concatenate((train_labels, test_labels))"
   ]
  },
  {
   "cell_type": "code",
   "execution_count": null,
   "id": "1c851454",
   "metadata": {},
   "outputs": [],
   "source": [
    "# https://www.tensorflow.org/api_docs/python/tf/keras/datasets/fashion_mnist/load_data\n",
    "labelnames = ['Airplane', 'Automobile', 'Bird', 'Cat', 'Deer', 'Dog', 'Frog', 'Horse', 'Ship', 'Truck']\n",
    "labelnames"
   ]
  },
  {
   "cell_type": "code",
   "execution_count": null,
   "id": "5fd564df-86a8-4fc4-96a1-6aa98b86e699",
   "metadata": {},
   "outputs": [],
   "source": [
    "div = pd.read_csv('div.csv')\n",
    "div.fillna(0, inplace=True)\n",
    "div"
   ]
  },
  {
   "cell_type": "code",
   "execution_count": null,
   "id": "f00b6e39",
   "metadata": {},
   "outputs": [],
   "source": [
    "# Count each labels\n",
    "total = {}\n",
    "for idx, data in enumerate(zip(images, labels), start=0):\n",
    "    label = labelnames[data[1]]\n",
    "    total[label] = total.get(label, 0) + 1\n",
    "total"
   ]
  },
  {
   "cell_type": "code",
   "execution_count": null,
   "id": "fdd99880-87b6-4aae-ab34-bb4a58328fe4",
   "metadata": {},
   "outputs": [],
   "source": [
    "for column in div.columns[1:]:\n",
    "    div = div.assign(**{column: np.around(div.loc[:,column]*total[column])})\n",
    "div"
   ]
  },
  {
   "cell_type": "code",
   "execution_count": null,
   "id": "85e56172-8e88-438d-99b8-08dbe194522c",
   "metadata": {},
   "outputs": [],
   "source": [
    "counter = {}\n",
    "output = os.path.abspath(os.path.expanduser('dataset-mnistfashion'))\n",
    "for idx, data in enumerate(zip(images, labels), start=0):\n",
    "    image = Image.fromarray(data[0])\n",
    "    label = labelnames[data[1]]\n",
    "    num = counter.get(label, 0)\n",
    "    party = random.choice(div.loc[div.loc[:, label] > 0, 'Clients'].values[:-1])\n",
    "    odir = os.path.join(output, f'{party}', label)\n",
    "    os.makedirs(odir, exist_ok=True)\n",
    "    opath = os.path.join(odir, f'{num:04d}.jpg')\n",
    "    image.save(opath)\n",
    "    div.loc[div.loc[:, 'Clients'] == party, label] = div.loc[div.loc[:, 'Clients'] == party, label] - 1\n",
    "    counter[label] = num + 1"
   ]
  },
  {
   "cell_type": "code",
   "execution_count": null,
   "id": "ecda90ee-4d57-48aa-b442-89d7900b02ef",
   "metadata": {},
   "outputs": [],
   "source": [
    "div"
   ]
  },
  {
   "cell_type": "markdown",
   "id": "f78e6056-2764-4526-9eb8-4c62fc7c9fae",
   "metadata": {},
   "source": [
    "### split test dataset for each clients"
   ]
  },
  {
   "cell_type": "code",
   "execution_count": null,
   "id": "f83b0828-8abc-415e-bb90-2ee23a9ce8b7",
   "metadata": {},
   "outputs": [],
   "source": [
    "div = pd.read_csv('div.csv')\n",
    "div.fillna(0, inplace=True)\n",
    "div"
   ]
  },
  {
   "cell_type": "code",
   "execution_count": null,
   "id": "85100058-099f-4fa4-8d14-41658e277544",
   "metadata": {},
   "outputs": [],
   "source": [
    "pathlist = [os.path.abspath(os.path.expanduser('dataset-mnistfashion/test'))]"
   ]
  },
  {
   "cell_type": "code",
   "execution_count": null,
   "id": "7cdbc50f-bd1d-447b-844c-77c9ae4cc685",
   "metadata": {},
   "outputs": [],
   "source": [
    "pathqueue = copy.deepcopy(pathlist)\n",
    "total = {}\n",
    "while len(pathqueue) > 0:\n",
    "    cpath = pathqueue.pop()\n",
    "    with os.scandir(cpath) as it:\n",
    "        for entry in it:\n",
    "            if not entry.name.startswith('.') and entry.is_dir():\n",
    "                pathqueue.append(entry.path)\n",
    "            elif not entry.name.startswith('.') and entry.is_file():\n",
    "                label = entry.path.split('/')[-2]\n",
    "                total[label] = total.get(label, 0) + 1\n",
    "total"
   ]
  },
  {
   "cell_type": "code",
   "execution_count": null,
   "id": "5454d8df-0575-4c80-a625-78a254576682",
   "metadata": {},
   "outputs": [],
   "source": [
    "for column in div.columns[1:]:\n",
    "    div = div.assign(**{column: np.around(div.loc[:,column]*total[column])})\n",
    "div"
   ]
  },
  {
   "cell_type": "code",
   "execution_count": null,
   "id": "eac58328-0ec5-4977-855b-acdb2197c57c",
   "metadata": {},
   "outputs": [],
   "source": [
    "counter = {}\n",
    "output = os.path.abspath(os.path.expanduser('testset-mnistfashion'))\n",
    "\n",
    "pathqueue = copy.deepcopy(pathlist)\n",
    "total = {}\n",
    "while len(pathqueue) > 0:\n",
    "    cpath = pathqueue.pop()\n",
    "    with os.scandir(cpath) as it:\n",
    "        for entry in it:\n",
    "            if not entry.name.startswith('.') and entry.is_dir():\n",
    "                pathqueue.append(entry.path)\n",
    "            elif not entry.name.startswith('.') and entry.is_file():\n",
    "                label = entry.path.split('/')[-2]\n",
    "                party = random.choice(div.loc[div.loc[:, label] > 0, 'Clients'].values[:-1])\n",
    "                odir = os.path.join(output, f'{party}', label)\n",
    "                os.makedirs(odir, exist_ok=True)\n",
    "                shutil.copy(entry.path, odir)\n",
    "                div.loc[div.loc[:, 'Clients'] == party, label] = div.loc[div.loc[:, 'Clients'] == party, label] - 1\n",
    "                total[label] = total.get(label, 0) + 1"
   ]
  },
  {
   "cell_type": "code",
   "execution_count": null,
   "id": "2310e141-5cfb-4111-9bba-8d7345acaa93",
   "metadata": {},
   "outputs": [],
   "source": [
    "div"
   ]
  }
 ],
 "metadata": {
  "kernelspec": {
   "display_name": "FLHub",
   "language": "python",
   "name": "flhub"
  },
  "language_info": {
   "codemirror_mode": {
    "name": "ipython",
    "version": 3
   },
   "file_extension": ".py",
   "mimetype": "text/x-python",
   "name": "python",
   "nbconvert_exporter": "python",
   "pygments_lexer": "ipython3",
   "version": "3.10.5"
  }
 },
 "nbformat": 4,
 "nbformat_minor": 5
}
