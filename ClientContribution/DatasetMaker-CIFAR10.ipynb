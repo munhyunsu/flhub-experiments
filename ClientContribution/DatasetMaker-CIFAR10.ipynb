{
 "cells": [
  {
   "cell_type": "markdown",
   "id": "fa5ceb26-275d-4088-86d7-41c29adb0ae8",
   "metadata": {},
   "source": [
    "# CIFAR-10 Dataset Maker"
   ]
  },
  {
   "cell_type": "code",
   "execution_count": null,
   "id": "7c69d330-5db0-4ea6-bbc4-f08133ef2547",
   "metadata": {},
   "outputs": [],
   "source": [
    "import os\n",
    "os.environ['CUDA_VISIBLE_DEVICES'] = '-1'\n",
    "import random\n",
    "\n",
    "import tensorflow as tf\n",
    "import numpy as np\n",
    "import pandas as pd\n",
    "import PIL.Image as Image"
   ]
  },
  {
   "cell_type": "code",
   "execution_count": null,
   "id": "6dd81dca-e2d1-4d04-bdef-cc05f024bc65",
   "metadata": {},
   "outputs": [],
   "source": [
    "# https://www.tensorflow.org/api_docs/python/tf/keras/datasets/cifar10\n",
    "(train_images, train_labels), (test_images, test_labels) = tf.keras.datasets.cifar10.load_data()\n",
    "images = np.concatenate((train_images, test_images))\n",
    "labels = np.concatenate((train_labels, test_labels))\n",
    "print(f'Train: {len(train_images)}, Test: {len(test_images)}, Total: {len(images)}')"
   ]
  },
  {
   "cell_type": "code",
   "execution_count": null,
   "id": "90e3d66d-1abd-493f-a020-cd9cae423047",
   "metadata": {},
   "outputs": [],
   "source": [
    "# https://www.tensorflow.org/api_docs/python/tf/keras/datasets/cifar10/load_data\n",
    "labelnames = ['Airplane', 'Automobile', 'Bird', 'Cat', 'Deer', 'Dog', 'Frog', 'Horse', 'Ship', 'Truck']\n",
    "labelnames"
   ]
  },
  {
   "cell_type": "code",
   "execution_count": null,
   "id": "69351df2-b9ec-4131-9b70-3b74f65c49ca",
   "metadata": {},
   "outputs": [],
   "source": [
    "# Data distribution table (csv)\n",
    "div = pd.read_csv('div-cifar10.csv', index_col='Clients')\n",
    "div.fillna(0, inplace=True)\n",
    "div.drop(columns=['Total'], inplace=True)\n",
    "div.drop(index=['Total'], inplace=True)\n",
    "div"
   ]
  },
  {
   "cell_type": "code",
   "execution_count": null,
   "id": "c67927d9-ce40-4e5a-a648-7515b37713e4",
   "metadata": {},
   "outputs": [],
   "source": [
    "row_index = []\n",
    "row_data = []\n",
    "test_ratio = 0.15\n",
    "train_ratio = 1 - test_ratio\n",
    "for index, row in div.iterrows():\n",
    "    row_index.append(f'{index} train')\n",
    "    row_data.append(np.rint(row*train_ratio))\n",
    "    row_index.append(f'{index} test')\n",
    "    row_data.append(np.rint(row*test_ratio))\n",
    "df = pd.DataFrame(data=row_data, index=row_index, dtype=div.iloc[0].dtype)\n",
    "df"
   ]
  },
  {
   "cell_type": "code",
   "execution_count": null,
   "id": "00d63b8f-922a-4848-be1c-7b16e96ecd9f",
   "metadata": {},
   "outputs": [],
   "source": [
    "# Count each labels\n",
    "total = {}\n",
    "for idx, data in enumerate(zip(images, labels), start=0):\n",
    "    label = labelnames[data[1]]\n",
    "    total[label] = total.get(label, 0) + 1\n",
    "total"
   ]
  },
  {
   "cell_type": "code",
   "execution_count": null,
   "id": "2c419f4e-d710-4562-87b9-cf5469cbb977",
   "metadata": {},
   "outputs": [],
   "source": [
    "dataset_root = os.path.abspath(os.path.expanduser('dataset-cifar10'))\n",
    "dataset_root"
   ]
  },
  {
   "cell_type": "code",
   "execution_count": null,
   "id": "a7a9792e-5fa1-4a89-bd6b-2f2ff69568b6",
   "metadata": {},
   "outputs": [],
   "source": [
    "# Write dataset\n",
    "left = df.copy(deep=True)\n",
    "counter = {}\n",
    "for idx, data in enumerate(zip(images, labels), start=0):\n",
    "    image = Image.fromarray(data[0])\n",
    "    label = labelnames[data[1]]\n",
    "    num = counter.get(label, 0)\n",
    "    party, split = random.choice(left.loc[left.loc[:, label] > 0].index).split(' ')\n",
    "    odir = os.path.join(dataset_root, f'{party}', f'{split}', label)\n",
    "    os.makedirs(odir, exist_ok=True)\n",
    "    opath = os.path.join(odir, f'{num:04d}.jpg')\n",
    "    image.save(opath)\n",
    "    left.loc[f'{party} {split}', label] = left.loc[f'{party} {split}', label] - 1\n",
    "    counter[label] = num + 1\n",
    "left"
   ]
  },
  {
   "cell_type": "markdown",
   "id": "863d386d-7da8-4298-9a50-e45873b81621",
   "metadata": {},
   "source": [
    "## Create simbolic link for round"
   ]
  },
  {
   "cell_type": "code",
   "execution_count": null,
   "id": "a7687c3d-ed85-4155-82f0-df7322684f7e",
   "metadata": {},
   "outputs": [],
   "source": [
    "found = pd.read_csv('round-cifar10.csv', index_col='Clients')\n",
    "found.fillna(-1, inplace=True)\n",
    "found = found.astype('int')\n",
    "found.drop(columns=['Total'], inplace=True)\n",
    "found.drop(index=['Total'], inplace=True)\n",
    "found"
   ]
  },
  {
   "cell_type": "code",
   "execution_count": null,
   "id": "41d5e620-addc-424d-9c28-fa5753cba473",
   "metadata": {},
   "outputs": [],
   "source": [
    "found_round = np.unique(found.values).tolist()\n",
    "found_round.remove(-1)\n",
    "found_round.sort(reverse=False)\n",
    "found_round"
   ]
  },
  {
   "cell_type": "code",
   "execution_count": null,
   "id": "48a18443-022a-434a-86ac-9a94871f6212",
   "metadata": {},
   "outputs": [],
   "source": [
    "found_label = dict()\n",
    "for fr in found_round:\n",
    "    label = found_label.get('all', dict())\n",
    "    label[fr] = found.columns[((-1 < found.loc[:, :]) & \n",
    "                               (found.loc[:, :] <= fr)).any()]\n",
    "    found_label['all'] = label\n",
    "    for c in found.index:\n",
    "        label = found_label.get(c, dict())\n",
    "        label[fr] = found.columns[((-1 < found.loc[c, :]) & \n",
    "                                   (found.loc[c, :] <= fr))]\n",
    "        found_label[c] = label\n",
    "found_label"
   ]
  },
  {
   "cell_type": "code",
   "execution_count": null,
   "id": "66dd87eb-a1bc-40f6-bc5d-4177789d9e4f",
   "metadata": {},
   "outputs": [],
   "source": [
    "scenario_root = os.path.join(dataset_root, 'scenario')\n",
    "scenario_root"
   ]
  },
  {
   "cell_type": "code",
   "execution_count": null,
   "id": "6172dc4f-b807-43b4-83c7-c3def2e243ee",
   "metadata": {},
   "outputs": [],
   "source": [
    "for c, value in found_label.items():\n",
    "    if c == 'all':\n",
    "        continue\n",
    "    for fr, labels in value.items():\n",
    "        for label in labels:\n",
    "            for subset in ['train', 'test']:\n",
    "                src_path = os.path.join(dataset_root, c, subset, label)\n",
    "                scenario_base = os.path.join(scenario_root, c, f'{fr}', subset)\n",
    "                os.makedirs(scenario_base, exist_ok=True)\n",
    "                dst_path = os.path.join(scenario_base, label)\n",
    "                # os.symlink(src_path, dst_path)\n",
    "                src_relpath = os.path.relpath(src_path, scenario_base)\n",
    "                os.symlink(src_relpath, dst_path)"
   ]
  },
  {
   "cell_type": "markdown",
   "id": "e818a918-9973-4489-b14f-c5b934d6cc67",
   "metadata": {},
   "source": [
    "## Create dataset for centralized learning (baseline: upper-bound)"
   ]
  },
  {
   "cell_type": "code",
   "execution_count": null,
   "id": "a1001705-6f4e-4270-aba6-7f6e0d89193d",
   "metadata": {},
   "outputs": [],
   "source": [
    "found = pd.read_csv('round-cifar10.csv', index_col='Clients')\n",
    "found.fillna(-1, inplace=True)\n",
    "found = found.astype('int')\n",
    "found.drop(columns=['Total'], inplace=True)\n",
    "found.drop(index=['Total'], inplace=True)\n",
    "found"
   ]
  },
  {
   "cell_type": "code",
   "execution_count": null,
   "id": "5abe9f29-0be3-4f0f-91b8-1ac91bc018c2",
   "metadata": {},
   "outputs": [],
   "source": [
    "found_round = np.unique(found.values).tolist()\n",
    "found_round.remove(-1)\n",
    "found_round.sort(reverse=False)\n",
    "found_round"
   ]
  },
  {
   "cell_type": "code",
   "execution_count": null,
   "id": "d1c0faaa-d9de-4f8f-887e-29121ec00f88",
   "metadata": {},
   "outputs": [],
   "source": [
    "found_label = dict()\n",
    "for fr in found_round:\n",
    "    label = found_label.get('all', dict())\n",
    "    label[fr] = found.columns[((-1 < found.loc[:, :]) & \n",
    "                               (found.loc[:, :] <= fr)).any()]\n",
    "    found_label['all'] = label\n",
    "    for c in found.index:\n",
    "        label = found_label.get(c, dict())\n",
    "        label[fr] = found.columns[((-1 < found.loc[c, :]) & \n",
    "                                   (found.loc[c, :] <= fr))]\n",
    "        found_label[c] = label\n",
    "found_label"
   ]
  },
  {
   "cell_type": "code",
   "execution_count": null,
   "id": "88788a10-dab1-44b5-9764-25d2f89d5db7",
   "metadata": {},
   "outputs": [],
   "source": [
    "center_root = os.path.join(dataset_root, 'center')\n",
    "center_root"
   ]
  },
  {
   "cell_type": "code",
   "execution_count": null,
   "id": "1c1b975d-9b86-4091-be14-f062c9d00615",
   "metadata": {},
   "outputs": [],
   "source": [
    "for c, value in found_label.items():\n",
    "    if c == 'all':\n",
    "        continue\n",
    "    for fr, labels in value.items():\n",
    "        for subset in ['train', 'test']:\n",
    "            for label in labels:\n",
    "                src_path = os.path.join(dataset_root, c, subset, label)\n",
    "                with os.scandir(src_path) as it:\n",
    "                    for entry in it:\n",
    "                        if not entry.name.startswith('.') and entry.is_file():\n",
    "                            center_base = os.path.join(center_root, subset, label)\n",
    "                            os.makedirs(center_base, exist_ok=True)\n",
    "                            dst_path = os.path.join(center_base, entry.name)\n",
    "                            if not os.path.exists(dst_path):\n",
    "                                # os.symlink(entry.path, dst_path)\n",
    "                                src_relpath = os.path.relpath(entry.path, center_base)\n",
    "                                os.symlink(src_relpath, dst_path)"
   ]
  }
 ],
 "metadata": {
  "kernelspec": {
   "display_name": "FLHub",
   "language": "python",
   "name": "flhub"
  },
  "language_info": {
   "codemirror_mode": {
    "name": "ipython",
    "version": 3
   },
   "file_extension": ".py",
   "mimetype": "text/x-python",
   "name": "python",
   "nbconvert_exporter": "python",
   "pygments_lexer": "ipython3",
   "version": "3.10.8"
  }
 },
 "nbformat": 4,
 "nbformat_minor": 5
}
