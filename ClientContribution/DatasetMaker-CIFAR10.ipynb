{
 "cells": [
  {
   "cell_type": "markdown",
   "id": "fa5ceb26-275d-4088-86d7-41c29adb0ae8",
   "metadata": {},
   "source": [
    "# CIFAR-10 Dataset Maker"
   ]
  },
  {
   "cell_type": "code",
   "execution_count": null,
   "id": "7c69d330-5db0-4ea6-bbc4-f08133ef2547",
   "metadata": {},
   "outputs": [],
   "source": []
  }
 ],
 "metadata": {
  "kernelspec": {
   "display_name": "FLHub",
   "language": "python",
   "name": "flhub"
  },
  "language_info": {
   "codemirror_mode": {
    "name": "ipython",
    "version": 3
   },
   "file_extension": ".py",
   "mimetype": "text/x-python",
   "name": "python",
   "nbconvert_exporter": "python",
   "pygments_lexer": "ipython3",
   "version": "3.10.8"
  }
 },
 "nbformat": 4,
 "nbformat_minor": 5
}
