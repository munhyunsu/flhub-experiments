{
 "cells": [
  {
   "cell_type": "markdown",
   "id": "f2386b23",
   "metadata": {},
   "source": [
    "# CIFAR-10 Dataset Maker"
   ]
  },
  {
   "cell_type": "code",
   "execution_count": null,
   "id": "7be5487a",
   "metadata": {},
   "outputs": [],
   "source": [
    "import os\n",
    "os.environ['CUDA_VISIBLE_DEVICES'] = '-1'\n",
    "import random\n",
    "\n",
    "import tensorflow as tf\n",
    "import numpy as np\n",
    "import pandas as pd\n",
    "import PIL.Image as Image"
   ]
  },
  {
   "cell_type": "code",
   "execution_count": null,
   "id": "12e6e65d",
   "metadata": {},
   "outputs": [],
   "source": [
    "(train_images, train_labels), (test_images, test_labels) = tf.keras.datasets.cifar10.load_data()\n",
    "images = np.concatenate((train_images, test_images))\n",
    "labels = np.concatenate((train_labels, test_labels))\n",
    "print(f'Train: {len(train_images)}, Test: {len(test_images)}, Total: {len(images)}')"
   ]
  },
  {
   "cell_type": "code",
   "execution_count": null,
   "id": "1c851454",
   "metadata": {},
   "outputs": [],
   "source": [
    "# https://www.tensorflow.org/api_docs/python/tf/keras/datasets/cifar10/load_data\n",
    "labelnames = ['Airplane', 'Automobile', 'Bird', 'Cat', 'Deer', 'Dog', 'Frog', 'Horse', 'Ship', 'Truck']\n",
    "labelnames"
   ]
  },
  {
   "cell_type": "code",
   "execution_count": null,
   "id": "6e7d836c-0cbb-455c-b464-23218f13044a",
   "metadata": {},
   "outputs": [],
   "source": [
    "# Data distribution table (csv)\n",
    "div = pd.read_csv('div-cifar10.csv', index_col='Clients')\n",
    "div.fillna(0, inplace=True)\n",
    "div.drop(columns=['Total'], inplace=True)\n",
    "div.drop(index=['Total'], inplace=True)\n",
    "div"
   ]
  },
  {
   "cell_type": "code",
   "execution_count": null,
   "id": "d139dfad-d5b7-4f05-af9b-01dc92115d86",
   "metadata": {},
   "outputs": [],
   "source": [
    "row_index = []\n",
    "row_data = []\n",
    "test_ratio = 0.15\n",
    "train_ratio = 1 - test_ratio\n",
    "for index, row in div.iterrows():\n",
    "    row_index.append(f'{index} train')\n",
    "    row_data.append(np.rint(row*train_ratio))\n",
    "    row_index.append(f'{index} test')\n",
    "    row_data.append(np.rint(row*test_ratio))\n",
    "df = pd.DataFrame(data=row_data, index=row_index, dtype=div.iloc[0].dtype)\n",
    "df"
   ]
  },
  {
   "cell_type": "code",
   "execution_count": null,
   "id": "d63f4b96-5a5d-4de3-b185-2dec8efcc411",
   "metadata": {},
   "outputs": [],
   "source": [
    "# Count each labels\n",
    "total = {}\n",
    "for idx, data in enumerate(zip(images, labels), start=0):\n",
    "    label = labelnames[data[1][0]]\n",
    "    total[label] = total.get(label, 0) + 1\n",
    "total"
   ]
  },
  {
   "cell_type": "code",
   "execution_count": null,
   "id": "9b58ee2c-06ad-4f81-acf1-82e9aa02cfcd",
   "metadata": {},
   "outputs": [],
   "source": [
    "np.sum(df, axis=0)"
   ]
  },
  {
   "cell_type": "code",
   "execution_count": null,
   "id": "6ec9dd0b-b698-4169-9701-cdce1ddd4c2c",
   "metadata": {},
   "outputs": [],
   "source": [
    "np.sum(df, axis=1)"
   ]
  },
  {
   "cell_type": "code",
   "execution_count": null,
   "id": "0a430fa1-5580-4ac2-9ea4-e4ecd492a676",
   "metadata": {},
   "outputs": [],
   "source": [
    "dataset_root = os.path.abspath(os.path.expanduser('dataset-cifar10'))"
   ]
  },
  {
   "cell_type": "code",
   "execution_count": null,
   "id": "8f6fb1d5-ef30-46a6-bb76-a465ccc01168",
   "metadata": {},
   "outputs": [],
   "source": [
    "left = df.copy(deep=True)\n",
    "counter = {}\n",
    "for idx, data in enumerate(zip(images, labels), start=0):\n",
    "    image = Image.fromarray(data[0])\n",
    "    label = labelnames[data[1][0]]\n",
    "    num = counter.get(label, 0)\n",
    "    party, split = random.choice(left.loc[left.loc[:, label] > 0].index).split(' ')\n",
    "    odir = os.path.join(dataset_root, f'{party}', f'{split}', label)\n",
    "    os.makedirs(odir, exist_ok=True)\n",
    "    opath = os.path.join(odir, f'{num:04d}.jpg')\n",
    "    image.save(opath)\n",
    "    left.loc[f'{party} {split}', label] = left.loc[f'{party} {split}', label] - 1\n",
    "    counter[label] = num + 1\n",
    "left"
   ]
  },
  {
   "cell_type": "code",
   "execution_count": null,
   "id": "0e1ba735-fb9d-4cbf-b50a-97f3b6844828",
   "metadata": {},
   "outputs": [],
   "source": []
  }
 ],
 "metadata": {
  "kernelspec": {
   "display_name": "FLHub",
   "language": "python",
   "name": "flhub"
  },
  "language_info": {
   "codemirror_mode": {
    "name": "ipython",
    "version": 3
   },
   "file_extension": ".py",
   "mimetype": "text/x-python",
   "name": "python",
   "nbconvert_exporter": "python",
   "pygments_lexer": "ipython3",
   "version": "3.10.5"
  }
 },
 "nbformat": 4,
 "nbformat_minor": 5
}
