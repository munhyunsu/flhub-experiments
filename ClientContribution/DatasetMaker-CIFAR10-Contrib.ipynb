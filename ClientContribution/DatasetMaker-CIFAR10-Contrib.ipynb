{
 "cells": [
  {
   "cell_type": "markdown",
   "id": "f2386b23",
   "metadata": {},
   "source": [
    "# CIFAR-10 Dataset Maker"
   ]
  },
  {
   "cell_type": "code",
   "execution_count": null,
   "id": "7be5487a",
   "metadata": {},
   "outputs": [],
   "source": [
    "import os\n",
    "os.environ['CUDA_VISIBLE_DEVICES'] = '-1'\n",
    "import copy\n",
    "import random\n",
    "import shutil\n",
    "\n",
    "import tensorflow as tf\n",
    "import numpy as np\n",
    "import pandas as pd\n",
    "import PIL.Image as Image"
   ]
  },
  {
   "cell_type": "code",
   "execution_count": null,
   "id": "12e6e65d",
   "metadata": {},
   "outputs": [],
   "source": [
    "(train_images, train_labels), (test_images, test_labels) = tf.keras.datasets.cifar10.load_data()\n",
    "images = np.concatenate((train_images, test_images))\n",
    "labels = np.concatenate((train_labels, test_labels))\n",
    "print(f'Train: {len(train_images)}, Test: {len(test_images)}, Total: {len(images)}')"
   ]
  },
  {
   "cell_type": "code",
   "execution_count": null,
   "id": "1c851454",
   "metadata": {},
   "outputs": [],
   "source": [
    "# https://www.tensorflow.org/api_docs/python/tf/keras/datasets/cifar10/load_data\n",
    "labelnames = ['Airplane', 'Automobile', 'Bird', 'Cat', 'Deer', 'Dog', 'Frog', 'Horse', 'Ship', 'Truck']\n",
    "labelnames"
   ]
  },
  {
   "cell_type": "code",
   "execution_count": null,
   "id": "6e7d836c-0cbb-455c-b464-23218f13044a",
   "metadata": {},
   "outputs": [],
   "source": [
    "# Data distribution table (csv)\n",
    "div = pd.read_csv('div-cifar10.csv', index_col='Clients')\n",
    "div.fillna(0, inplace=True)\n",
    "div.drop(columns=['Total'], inplace=True)\n",
    "div.drop(index=['Total'], inplace=True)\n",
    "div"
   ]
  },
  {
   "cell_type": "code",
   "execution_count": null,
   "id": "6b31d0bd-5916-4f01-a961-c50f994b648e",
   "metadata": {},
   "outputs": [],
   "source": [
    "div.iloc[0].dtype"
   ]
  },
  {
   "cell_type": "code",
   "execution_count": null,
   "id": "d139dfad-d5b7-4f05-af9b-01dc92115d86",
   "metadata": {},
   "outputs": [],
   "source": [
    "row_index = []\n",
    "row_data = []\n",
    "test_ratio = 0.3\n",
    "train_ratio = 1 - test_ratio\n",
    "for index, row in div.iterrows():\n",
    "    row_index.append(f'{index} train')\n",
    "    row_data.append(np.rint(row*train_ratio))\n",
    "    row_index.append(f'{index} test')\n",
    "    row_data.append(np.rint(row*test_ratio))\n",
    "df = pd.DataFrame(data=row_data, index=row_index, dtype=div.iloc[0].dtype)\n",
    "df"
   ]
  },
  {
   "cell_type": "code",
   "execution_count": null,
   "id": "d63f4b96-5a5d-4de3-b185-2dec8efcc411",
   "metadata": {},
   "outputs": [],
   "source": []
  }
 ],
 "metadata": {
  "kernelspec": {
   "display_name": "FLHub",
   "language": "python",
   "name": "flhub"
  },
  "language_info": {
   "codemirror_mode": {
    "name": "ipython",
    "version": 3
   },
   "file_extension": ".py",
   "mimetype": "text/x-python",
   "name": "python",
   "nbconvert_exporter": "python",
   "pygments_lexer": "ipython3",
   "version": "3.10.5"
  }
 },
 "nbformat": 4,
 "nbformat_minor": 5
}
