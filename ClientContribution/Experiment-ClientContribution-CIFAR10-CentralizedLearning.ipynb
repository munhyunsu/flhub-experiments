{
 "cells": [
  {
   "cell_type": "markdown",
   "id": "775c37e9-c4b7-454c-bab4-3f8f27e666ce",
   "metadata": {},
   "source": [
    "# Experiment with CIFAR-10\n",
    "## Centralized learning for baseline"
   ]
  },
  {
   "cell_type": "code",
   "execution_count": null,
   "id": "368861b1-9d55-4d4b-9074-413502d09cc9",
   "metadata": {},
   "outputs": [],
   "source": [
    "import os\n",
    "import pickle\n",
    "import time\n",
    "import datetime\n",
    "\n",
    "import tensorflow as tf\n",
    "tf.get_logger().setLevel('ERROR')\n",
    "tf.autograph.set_verbosity(0)\n",
    "import tensorflow_hub as hub\n",
    "import numpy as np\n",
    "import pandas as pd"
   ]
  },
  {
   "cell_type": "code",
   "execution_count": null,
   "id": "5f0d751a-4d1e-4baa-b5a7-7e73e22f0269",
   "metadata": {},
   "outputs": [],
   "source": [
    "print(\"Num GPUs Available: \", len(tf.config.list_physical_devices('GPU')))"
   ]
  },
  {
   "cell_type": "code",
   "execution_count": null,
   "id": "cc179d44-fca3-4173-af47-f7dfa999e1c4",
   "metadata": {},
   "outputs": [],
   "source": [
    "labelnames = ['Airplane', 'Automobile', 'Bird', 'Cat', 'Deer', 'Dog', 'Frog', 'Horse', 'Ship', 'Truck']\n",
    "labelnames"
   ]
  },
  {
   "cell_type": "code",
   "execution_count": null,
   "id": "71db3049-7bbf-4e3c-b4c1-baf27aeae69d",
   "metadata": {},
   "outputs": [],
   "source": [
    "dataset_root = os.path.abspath(os.path.expanduser('dataset-cifar10'))\n",
    "dataset_root = os.path.join(dataset_root, 'center')\n",
    "dataset_root"
   ]
  },
  {
   "cell_type": "code",
   "execution_count": null,
   "id": "ab3e504a-b8d6-442e-a469-88cd7bba0621",
   "metadata": {},
   "outputs": [],
   "source": [
    "image_generator = tf.keras.preprocessing.image.ImageDataGenerator(rescale=1/255)\n",
    "target_size = (224, 224, 3)\n",
    "datasets = dict()\n",
    "for subset in ['train', 'test']:\n",
    "    path = os.path.join(dataset_root, subset)\n",
    "    datasets[subset] = image_generator.flow_from_directory(path, classes=labelnames,\n",
    "                                                           target_size=target_size[:-1], shuffle=True,\n",
    "                                                           follow_links=True)\n",
    "datasets"
   ]
  },
  {
   "cell_type": "code",
   "execution_count": null,
   "id": "270f7b35-70b6-43a6-acd8-b8ea23e10ebf",
   "metadata": {},
   "outputs": [],
   "source": [
    "mobilenet_v2 = 'https://tfhub.dev/google/tf2-preview/mobilenet_v2/feature_vector/4'\n",
    "inception_v3 = 'https://tfhub.dev/google/tf2-preview/inception_v3/feature_vector/4'\n",
    "feature_extractor_model = mobilenet_v2"
   ]
  },
  {
   "cell_type": "code",
   "execution_count": null,
   "id": "9fef8d71-f889-4468-bc31-a5cd3201589a",
   "metadata": {},
   "outputs": [],
   "source": [
    "feature_extractor_layer = hub.KerasLayer(feature_extractor_model, input_shape=target_size, trainable=True)\n",
    "feature_extractor_layer"
   ]
  },
  {
   "cell_type": "code",
   "execution_count": null,
   "id": "00a801e9-a256-45e1-93c6-9d180057b562",
   "metadata": {},
   "outputs": [],
   "source": [
    "model = tf.keras.Sequential([\n",
    "    feature_extractor_layer,\n",
    "    tf.keras.layers.Dense(len(labelnames))\n",
    "])\n",
    "model.compile(optimizer=tf.keras.optimizers.Adam(),\n",
    "              loss=tf.keras.losses.CategoricalCrossentropy(from_logits=True),\n",
    "              metrics=['accuracy'])\n",
    "model.summary()"
   ]
  },
  {
   "cell_type": "code",
   "execution_count": null,
   "id": "ec0c8f76-5a5c-4e5b-9b71-fc27c1a49f31",
   "metadata": {},
   "outputs": [],
   "source": [
    "epochs = 120\n",
    "returns = model.fit(datasets['train'],\n",
    "                    validation_data=datasets['test'],\n",
    "                    epochs=epochs)"
   ]
  },
  {
   "cell_type": "code",
   "execution_count": null,
   "id": "28c9af6f-4394-4454-bc68-8f813a011d17",
   "metadata": {},
   "outputs": [],
   "source": [
    "today = datetime.datetime.now().strftime('%y%m%d%H%M%S')\n",
    "with open(f'centralized_learning_{today}.pkl', 'wb') as f:\n",
    "    pickle.dump(returns.history, f)"
   ]
  },
  {
   "cell_type": "code",
   "execution_count": null,
   "id": "18335553-0f4d-41d5-aa1c-ef6a9d2f8740",
   "metadata": {},
   "outputs": [],
   "source": []
  }
 ],
 "metadata": {
  "kernelspec": {
   "display_name": "FLHub",
   "language": "python",
   "name": "flhub"
  },
  "language_info": {
   "codemirror_mode": {
    "name": "ipython",
    "version": 3
   },
   "file_extension": ".py",
   "mimetype": "text/x-python",
   "name": "python",
   "nbconvert_exporter": "python",
   "pygments_lexer": "ipython3",
   "version": "3.10.5"
  }
 },
 "nbformat": 4,
 "nbformat_minor": 5
}
