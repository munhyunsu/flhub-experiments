{
 "cells": [
  {
   "cell_type": "markdown",
   "id": "acd5e306-0cde-4258-b1c8-3ef2e03da153",
   "metadata": {},
   "source": [
    "# Experiment with CIFAR10\n",
    "## Federated learning with random selection 3"
   ]
  },
  {
   "cell_type": "code",
   "execution_count": null,
   "id": "cb653a36-2515-455f-956e-1451d3f42ef9",
   "metadata": {},
   "outputs": [],
   "source": [
    "import os\n",
    "os.environ['CUDA_VISIBLE_DEVICES'] = '-1'\n",
    "os.environ['TF_CPP_MIN_LOG_LEVEL'] = '3'\n",
    "os.environ['AUTHGRAPH_VERBOSITY'] = '0'\n",
    "import pickle\n",
    "import time\n",
    "import datetime\n",
    "import random\n",
    "import operator\n",
    "import copy\n",
    "\n",
    "import tensorflow as tf\n",
    "tf.get_logger().setLevel('ERROR')\n",
    "tf.autograph.set_verbosity(0)\n",
    "tf.random.set_seed(6292)\n",
    "import absl.logging\n",
    "absl.logging.set_verbosity(absl.logging.ERROR)\n",
    "import tensorflow_hub as hub\n",
    "import numpy as np\n",
    "import pandas as pd"
   ]
  },
  {
   "cell_type": "code",
   "execution_count": null,
   "id": "7b61bc9c-783d-4324-b659-b37caaaae10e",
   "metadata": {},
   "outputs": [],
   "source": [
    "print(\"Num GPUs Available: \", len(tf.config.list_physical_devices('GPU')))"
   ]
  },
  {
   "cell_type": "code",
   "execution_count": null,
   "id": "12213e1e-914b-41ee-b545-e4c7115dc30d",
   "metadata": {},
   "outputs": [],
   "source": [
    "today = datetime.datetime.now().strftime('%Y%m%d%H%M%S')\n",
    "today"
   ]
  },
  {
   "cell_type": "code",
   "execution_count": null,
   "id": "4fc7e2f3-d7fd-4a6d-8537-2a735713a54b",
   "metadata": {},
   "outputs": [],
   "source": [
    "labelnames = ['Airplane', 'Automobile', 'Bird', 'Cat', 'Deer', 'Dog', 'Frog', 'Horse', 'Ship', 'Truck']\n",
    "labelnames"
   ]
  },
  {
   "cell_type": "code",
   "execution_count": null,
   "id": "1a155bca-e6e0-4032-9cc7-8d6c12f0325f",
   "metadata": {},
   "outputs": [],
   "source": [
    "dataset_root = os.path.abspath(os.path.expanduser('dataset-cifar10'))\n",
    "dataset_root"
   ]
  },
  {
   "cell_type": "code",
   "execution_count": null,
   "id": "5ca927eb-f846-431b-af9c-3a8442f1986f",
   "metadata": {},
   "outputs": [],
   "source": [
    "model_root = os.path.abspath(os.path.expanduser(f'model-cifar10-random3-{today}'))\n",
    "model_root"
   ]
  },
  {
   "cell_type": "code",
   "execution_count": null,
   "id": "edc5ff9e-e4a1-4e31-9f92-6d25214a442a",
   "metadata": {},
   "outputs": [],
   "source": [
    "found = pd.read_csv('round-cifar10.csv', index_col='Clients')\n",
    "found.fillna(-1, inplace=True)\n",
    "found = found.astype('int')\n",
    "found.drop(columns=['Total'], inplace=True)\n",
    "found.drop(index=['Total'], inplace=True)\n",
    "found"
   ]
  },
  {
   "cell_type": "code",
   "execution_count": null,
   "id": "6dd37c8e-0468-4996-b748-1b1385e530ae",
   "metadata": {},
   "outputs": [],
   "source": [
    "found_round = np.unique(found.values).tolist()\n",
    "found_round.remove(-1)\n",
    "found_round.sort(reverse=False)\n",
    "found_round"
   ]
  },
  {
   "cell_type": "code",
   "execution_count": null,
   "id": "5312b8b6-5827-4f51-b8da-534b0dfb2a0f",
   "metadata": {},
   "outputs": [],
   "source": [
    "found_label = dict()\n",
    "for fr in found_round:\n",
    "    label = found_label.get('all', dict())\n",
    "    label[fr] = found.columns[((-1 < found.loc[:, :]) & \n",
    "                               (found.loc[:, :] <= fr)).any()].tolist()\n",
    "    found_label['all'] = label\n",
    "    for c in found.index:\n",
    "        label = found_label.get(c, dict())\n",
    "        label[fr] = found.columns[((-1 < found.loc[c, :]) & \n",
    "                                   (found.loc[c, :] <= fr))].tolist()\n",
    "        found_label[c] = label\n",
    "found_label"
   ]
  },
  {
   "cell_type": "code",
   "execution_count": null,
   "id": "c958a551-783c-4877-8c9a-bb79a8781566",
   "metadata": {},
   "outputs": [],
   "source": [
    "found_client = dict()\n",
    "for fr in found_round:\n",
    "    found_client[fr] = found.index[((-1 < found.loc[:, :]) & \n",
    "                                    (found.loc[:, :] <= fr)).any(axis=1)].tolist()\n",
    "found_client"
   ]
  },
  {
   "cell_type": "code",
   "execution_count": null,
   "id": "5476e250-613f-470b-becd-375dd654bd40",
   "metadata": {},
   "outputs": [],
   "source": [
    "image_generator = tf.keras.preprocessing.image.ImageDataGenerator(rescale=1/255)\n",
    "target_size = (224, 224, 3)"
   ]
  }
 ],
 "metadata": {
  "kernelspec": {
   "display_name": "FLHub",
   "language": "python",
   "name": "flhub"
  },
  "language_info": {
   "codemirror_mode": {
    "name": "ipython",
    "version": 3
   },
   "file_extension": ".py",
   "mimetype": "text/x-python",
   "name": "python",
   "nbconvert_exporter": "python",
   "pygments_lexer": "ipython3",
   "version": "3.10.8"
  }
 },
 "nbformat": 4,
 "nbformat_minor": 5
}
