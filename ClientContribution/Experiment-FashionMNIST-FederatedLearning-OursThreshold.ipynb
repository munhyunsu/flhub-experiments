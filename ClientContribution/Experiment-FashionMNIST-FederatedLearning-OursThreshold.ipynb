{
 "cells": [
  {
   "cell_type": "markdown",
   "id": "d369fbb6-5a2a-4d39-9245-8ce8fa3e01fe",
   "metadata": {},
   "source": [
    "# Experiment with Fashion MNIST\n",
    "## Federated learning with by ours threshold"
   ]
  },
  {
   "cell_type": "code",
   "execution_count": null,
   "id": "bff7467f-3d63-40c4-b7ce-d6f024368afe",
   "metadata": {},
   "outputs": [],
   "source": []
  }
 ],
 "metadata": {
  "kernelspec": {
   "display_name": "FLHub",
   "language": "python",
   "name": "flhub"
  },
  "language_info": {
   "codemirror_mode": {
    "name": "ipython",
    "version": 3
   },
   "file_extension": ".py",
   "mimetype": "text/x-python",
   "name": "python",
   "nbconvert_exporter": "python",
   "pygments_lexer": "ipython3",
   "version": "3.10.8"
  }
 },
 "nbformat": 4,
 "nbformat_minor": 5
}
